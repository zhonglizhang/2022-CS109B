{
 "cells": [
  {
   "cell_type": "markdown",
   "metadata": {},
   "source": [
    "# <img style=\"float: left; padding-right: 10px; width: 45px\" src=\"https://raw.githubusercontent.com/Harvard-IACS/2018-CS109A/master/content/styles/iacs.png\"> CS109B Data Science 2: Advanced Topics in Data Science \n",
    "\n",
    "## Lab 03 - Hierarchical Models in PyMC3 \n",
    "\n",
    "**Harvard University**<br>\n",
    "**Spring 2022**<br>\n",
    "**Instructors:** Mark Glickman and Pavlos Protopapas<br>\n",
    "**Lab instructor and content:** Eleni Angelaki Kaxiras<br>\n",
    "\n",
    "---"
   ]
  },
  {
   "cell_type": "code",
   "execution_count": null,
   "metadata": {},
   "outputs": [],
   "source": [
    "import warnings\n",
    "\n",
    "import arviz as az\n",
    "import matplotlib.pyplot as plt\n",
    "import numpy as np\n",
    "import pymc3 as pm\n",
    "import theano.tensor as tt\n",
    "\n",
    "from pymc3 import summary\n",
    "from pymc3 import Model, Normal, HalfNormal, model_to_graphviz, HalfCauchy\n",
    "from pymc3 import NUTS, sample, find_MAP\n",
    "from scipy import optimize\n",
    "\n",
    "warnings.simplefilter(action=\"ignore\", category=FutureWarning)\n",
    "warnings.filterwarnings('ignore')\n",
    "\n",
    "import numpy as np\n",
    "import matplotlib.pyplot as plt\n",
    "from matplotlib import gridspec\n",
    "import scipy.stats as stats\n",
    "import pandas as pd\n",
    "import seaborn as sns\n",
    "%matplotlib inline \n",
    "\n",
    "import warnings\n",
    "print('Running on PyMC3 v{}'.format(pm.__version__))"
   ]
  },
  {
   "cell_type": "code",
   "execution_count": null,
   "metadata": {},
   "outputs": [],
   "source": [
    "%%javascript\n",
    "IPython.OutputArea.auto_scroll_threshold = 20000;"
   ]
  },
  {
   "cell_type": "markdown",
   "metadata": {},
   "source": [
    "### Learning Objectives\n",
    "\n",
    "By the end of this lab, you should know how to create Bayesian hierarchical models in PyMC3 \n",
    "\n",
    "**This lab maps to Homework 2.**"
   ]
  },
  {
   "cell_type": "markdown",
   "metadata": {},
   "source": [
    "## Hierarchical Models"
   ]
  },
  {
   "cell_type": "markdown",
   "metadata": {},
   "source": [
    "**Gelman et al.** famous radon dataset is a classic for hierarchical modeling. In this dataset the amount of the radioactive gas radon has been measured among different households in all county's of several states. Radon gas is known to be the highest cause of lung cancer in non-smokers. It is believed to be more strongly present in households containing a basement and to differ in amount present among types of soil. Here we'll investigate this differences and try to make predictions of radonlevels in different county's based on the county itself and the presence of a basement."
   ]
  },
  {
   "cell_type": "markdown",
   "metadata": {},
   "source": [
    "![house](radon_house.jpg)"
   ]
  },
  {
   "cell_type": "code",
   "execution_count": null,
   "metadata": {},
   "outputs": [],
   "source": [
    "df = pd.read_csv('radon.csv', index_col=[0])\n",
    "df['log_radon'] = df['log_radon'].astype('float')\n",
    "county_names = df.county.unique()\n",
    "county_idx = df.county_code.values\n",
    "\n",
    "n_counties = len(df.county.unique())\n",
    "df.head()"
   ]
  },
  {
   "cell_type": "markdown",
   "metadata": {},
   "source": [
    "Each **row** in the dataframe represents the radon measurements for **one house** in a specific county including whether the house has a basement (floor = 0) or not (floor = 1). We are interested in whether having a basement increases the radon measured in the house."
   ]
  },
  {
   "cell_type": "markdown",
   "metadata": {},
   "source": [
    "To keep things simple let's keep only the following three variables: `county`, `log_radon`, and `floor`"
   ]
  },
  {
   "cell_type": "code",
   "execution_count": null,
   "metadata": {},
   "outputs": [],
   "source": [
    "# keep only these variables\n",
    "data = df[['county', 'log_radon', 'floor']]\n",
    "data.head()"
   ]
  },
  {
   "cell_type": "markdown",
   "metadata": {},
   "source": [
    "Let's check how many different counties we have. We also notice that they have a different number of houses. Some have a large number of houses measured, some only 1."
   ]
  },
  {
   "cell_type": "code",
   "execution_count": null,
   "metadata": {},
   "outputs": [],
   "source": [
    "data['county'].value_counts().head(5)"
   ]
  },
  {
   "cell_type": "code",
   "execution_count": null,
   "metadata": {},
   "outputs": [],
   "source": [
    "data['county'].value_counts()[-5:]"
   ]
  },
  {
   "cell_type": "code",
   "execution_count": null,
   "metadata": {},
   "outputs": [],
   "source": [
    "# let's add a column that numbers the counties from 0 to n\n",
    "# raw_ids = np.unique(data['county'])\n",
    "# raw2newid = {x:np.where(raw_ids == x)[0][0] for x in raw_ids}\n",
    "\n",
    "# data['county_id'] = data['county'].map(raw2newid)\n",
    "# data"
   ]
  },
  {
   "cell_type": "markdown",
   "metadata": {},
   "source": [
    "### 1 - Pooling: Same Linear Regression for all\n",
    "\n",
    "We can just pool all the data and estimate one big regression to asses the influence of having a basement on radon levels across all counties. Our model would be:"
   ]
  },
  {
   "cell_type": "markdown",
   "metadata": {},
   "source": [
    "\\begin{equation}\n",
    "y_{i} = \\alpha + \\beta*floor_{i} \n",
    "\\end{equation}\n",
    "\n",
    "Where $i$ represents the measurement (house), and floor contains a 0 or 1 if the house has a basement or not. By ignoring the county feature, we do not differenciate on counties."
   ]
  },
  {
   "cell_type": "code",
   "execution_count": null,
   "metadata": {},
   "outputs": [],
   "source": [
    "with pm.Model() as pooled_model:\n",
    "    # common priors for all\n",
    "    a = pm.Normal('a', mu=0, sigma=100)   \n",
    "    b = pm.Normal('b', mu=0, sigma=100)\n",
    "\n",
    "    # radon estimate\n",
    "    radon_est = a + b*data['floor'].values\n",
    "\n",
    "    # likelihood after radon observations\n",
    "    radon_obs = pm.Normal('radon_obs', mu=radon_est,  \n",
    "                           observed=data['log_radon']) # note here we enter the whole dataset"
   ]
  },
  {
   "cell_type": "code",
   "execution_count": null,
   "metadata": {},
   "outputs": [],
   "source": [
    "from pymc3 import model_to_graphviz\n",
    "model_to_graphviz(pooled_model)"
   ]
  },
  {
   "cell_type": "code",
   "execution_count": null,
   "metadata": {},
   "outputs": [],
   "source": [
    "with pooled_model:\n",
    " \n",
    "    pooled_trace = sample(2000, tune=1000, target_accept=0.9) \n",
    "    print(f'DONE')"
   ]
  },
  {
   "cell_type": "code",
   "execution_count": null,
   "metadata": {},
   "outputs": [],
   "source": [
    "pm.traceplot(pooled_trace);"
   ]
  },
  {
   "cell_type": "markdown",
   "metadata": {},
   "source": [
    "Remember, with the pooled model we have only one intercept, $\\alpha$, and only one slope, $\\beta$ for all the counties. Let's plot the regression lines."
   ]
  },
  {
   "cell_type": "code",
   "execution_count": null,
   "metadata": {},
   "outputs": [],
   "source": [
    "# plot just a subset of the countries\n",
    "counties = ['HENNEPIN','AITKIN','WASHINGTON', 'MURRAY', 'YELLOW MEDICINE', 'MAHNOMEN']\n",
    "\n",
    "plt.figure(figsize=(10,5))\n",
    "rows = 2\n",
    "gs = gridspec.GridSpec(rows, len(counties)//rows)\n",
    "  \n",
    "for i, county in enumerate(counties):\n",
    "    county_data = data.loc[data['county']==county]\n",
    "    x = np.linspace(-0.2, 1.2)    \n",
    "    radon_est = pooled_trace['a'].mean() + pooled_trace['b'].mean()*x\n",
    "    subplt = plt.subplot(gs[i])\n",
    "\n",
    "    subplt.set_ylim(0.,4.)\n",
    "    subplt.scatter(county_data['floor'], county_data['log_radon'])\n",
    "    subplt.plot(x, radon_est, c='r', label='pooled line');\n",
    "    subplt.set_xlabel('floor', fontsize=10)\n",
    "    subplt.set_ylabel('radon level', fontsize=10)\n",
    "    subplt.set_title(str(county) + ' County')\n",
    "    subplt.legend()\n",
    "    plt.tight_layout()"
   ]
  },
  {
   "cell_type": "markdown",
   "metadata": {},
   "source": [
    "### 2 - Unpooling: Separate Linear Regression for each county \n",
    "\n",
    "We believe that different counties have different relationships of radon and basements. Our model would be:"
   ]
  },
  {
   "cell_type": "markdown",
   "metadata": {},
   "source": [
    "\\begin{equation}\n",
    "radon_{i,c} = \\alpha_c + \\beta_c*floor_{i,c} \n",
    "\\end{equation}\n",
    "\n",
    "Where $i$ represents the measurement, $c$ the county, and floor contains a 0 or 1 if the house has a basement or not. \n",
    "\n",
    "Notice we have separate coefficients for each county in $a_c$ and $b_c$. They are totally different, they do not even come from the same distribution."
   ]
  },
  {
   "cell_type": "markdown",
   "metadata": {},
   "source": [
    "We will do this for only one county, as an example. We pick HENNEPIN county. "
   ]
  },
  {
   "cell_type": "code",
   "execution_count": null,
   "metadata": {},
   "outputs": [],
   "source": [
    "# chose a county\n",
    "county = 'MEEKER'\n",
    "county_data = data.loc[data['county']==county]\n",
    "county_data.head()"
   ]
  },
  {
   "cell_type": "code",
   "execution_count": null,
   "metadata": {},
   "outputs": [],
   "source": [
    "#help(pm.Normal)"
   ]
  },
  {
   "cell_type": "code",
   "execution_count": null,
   "metadata": {},
   "outputs": [],
   "source": [
    "with pm.Model() as unpooled_model:\n",
    "    mu_a = pm.Normal('mu_a', mu=0., sigma=100)\n",
    "    sigma_a = pm.HalfNormal('sigma_a', 5.)\n",
    "    mu_b = pm.Normal('mu_b', mu=0., sigma=100)\n",
    "    sigma_b = pm.HalfNormal('sigma_b', 5.)\n",
    "    \n",
    "    a = pm.Normal('a', mu=mu_a, sigma=sigma_a)   \n",
    "    b = pm.Normal('b', mu=mu_b, sigma=sigma_b)\n",
    "\n",
    "    radon_est = a + b*county_data['floor'].values\n",
    "\n",
    "    radon_obs = pm.Normal('radon_like', mu=radon_est,  \n",
    "                           observed=county_data['log_radon']) "
   ]
  },
  {
   "cell_type": "code",
   "execution_count": null,
   "metadata": {},
   "outputs": [],
   "source": [
    "model_to_graphviz(unpooled_model)"
   ]
  },
  {
   "cell_type": "code",
   "execution_count": null,
   "metadata": {},
   "outputs": [],
   "source": [
    "with unpooled_model:\n",
    " \n",
    "    unpooled_trace = sample(2000, tune=1000, target_accept=0.9) \n",
    "    print(f'DONE')"
   ]
  },
  {
   "cell_type": "code",
   "execution_count": null,
   "metadata": {},
   "outputs": [],
   "source": [
    "pm.traceplot(unpooled_trace);"
   ]
  },
  {
   "cell_type": "markdown",
   "metadata": {},
   "source": [
    "Print the regression line for our chosen county alone."
   ]
  },
  {
   "cell_type": "code",
   "execution_count": null,
   "metadata": {},
   "outputs": [],
   "source": [
    "county = 'MEEKER'\n",
    "county_data = data.loc[data['county']==county]\n",
    "\n",
    "x = np.arange(len(county_data['floor'].values))\n",
    "radon_est_unpooled = unpooled_trace['a'].mean() + unpooled_trace['b'].mean()*county_data['floor'].values\n",
    "\n",
    "xx = np.linspace(-0.2, 1.2)    \n",
    "radon_est_pooled = pooled_trace['a'].mean() + pooled_trace['b'].mean()*xx\n",
    "\n",
    "plt.scatter(county_data['floor'], county_data['log_radon'])\n",
    "plt.xlim(-0.1,1.1)\n",
    "plt.xlabel('floor', fontsize=10)\n",
    "plt.ylabel('radon level', fontsize=10)\n",
    "plt.title(f'{str(county)} county Radon levels')\n",
    "plt.plot(x, radon_est_unpooled, c='g', label='unpooled line');\n",
    "plt.plot(xx, radon_est_pooled, c='r', label='pooled line');\n",
    "plt.legend();"
   ]
  },
  {
   "cell_type": "markdown",
   "metadata": {},
   "source": [
    "### 3 - Partial pooling: Hierarchical Regression (Varying-Coefficients Model)\n",
    "\n",
    "Merely by the fact that all counties are counties, they share similarities, so there is a middle ground to both of these extremes. Specifically, we may assume that while $\\alpha_c$ and $\\beta_c$are different for each county as in the unpooled case, the coefficients are all drawn from the same distribution:"
   ]
  },
  {
   "cell_type": "markdown",
   "metadata": {},
   "source": [
    "\\begin{equation}\n",
    "radon_{i,c} = \\alpha_c + \\beta_c*floor_{i,c} \n",
    "\\end{equation}   \n",
    "\n",
    "\\begin{equation}\n",
    "a_c \\sim  \\mathcal{N}(\\mu_a,\\,\\sigma_a^{2})\n",
    "\\end{equation} \n",
    "\\begin{equation}\n",
    "b_c \\sim  \\mathcal{N}(\\mu_b,\\,\\sigma_b^{2})\n",
    "\\end{equation}\n",
    "\n",
    "where the common parameters are:\n",
    "\\begin{eqnarray}\n",
    "\\mu_a \\sim  \\mathcal{N}(0,\\,10) \\\\\n",
    "\\sigma_a^2 \\sim  |\\mathcal{N}(0,\\,10)| \\\\\n",
    "\\mu_b \\sim  \\mathcal{N}(0,\\,10) \\\\\n",
    "\\sigma_b^2 \\sim  |\\mathcal{N}(0,\\,10)|\n",
    "\\end{eqnarray}\n",
    "\n",
    "Add math for mu and sigma\n",
    "\n",
    "\n",
    "The different counties are effectively sharing information through the commin priors. We are thus observing what is known as shrinkage; modeling the groups not as independent from each other, neither as a single group but rather as related."
   ]
  },
  {
   "cell_type": "markdown",
   "metadata": {},
   "source": [
    "NOTES\n",
    "\n",
    "We saw that some counties had only one sample, so if that house is a really old with old lead pipes, our prediction will be that all houses in this county have radon. On the other extreme, if we have a newer house with no radon then again we will have missleading results. In one case, you will overestimate the bad quality and in the other underestimate it. Under a hierarchical model, the miss-estimation of one group will be offset by the information provided by the other groups. As always gathering more data helps if this is an option."
   ]
  },
  {
   "cell_type": "markdown",
   "metadata": {},
   "source": [
    "### Defining the Model for the Hierarchical Model "
   ]
  },
  {
   "cell_type": "code",
   "execution_count": null,
   "metadata": {},
   "outputs": [],
   "source": [
    "with pm.Model() as hierarchical_model:\n",
    "    # Hyperpriors for group nodes\n",
    "    mu_a = pm.Normal('mu_a', mu=0., sigma=100)\n",
    "    sigma_a = pm.HalfNormal('sigma_a', 5.)\n",
    "    mu_b = pm.Normal('mu_b', mu=0., sigma=100)\n",
    "    sigma_b = pm.HalfNormal('sigma_b', 5.)\n",
    "\n",
    "    # Above we just set mu and sd to a fixed value while here we\n",
    "    # plug in a common group distribution for all a and b (which are\n",
    "    # vectors of length n_counties).\n",
    "    \n",
    "    # Intercept for each county, distributed around group mean mu_a\n",
    "    a = pm.Normal('a', mu=mu_a, sigma=sigma_a, shape=n_counties)\n",
    "    \n",
    "    # beta for each county, distributed around group mean mu_b\n",
    "    b = pm.Normal('b', mu=mu_b, sigma=sigma_b, shape=n_counties)\n",
    "\n",
    "    # Model error\n",
    "    #eps = pm.HalfCauchy('eps', 5.)\n",
    "\n",
    "    radon_est = a[county_idx] + b[county_idx]*data['floor'].values\n",
    "\n",
    "    # Data likelihood with sigma for random error\n",
    "#     radon_like = pm.Normal('radon_like', mu=radon_est,\n",
    "#                            sigma=eps, observed=data['log_radon'])\n",
    "\n",
    "    # Data likelihood with sigma without random error\n",
    "    radon_like = pm.Normal('radon_like', mu=radon_est, #sigma=eps, \n",
    "                           observed=data['log_radon'])"
   ]
  },
  {
   "cell_type": "code",
   "execution_count": null,
   "metadata": {},
   "outputs": [],
   "source": [
    "model_to_graphviz(hierarchical_model)"
   ]
  },
  {
   "cell_type": "markdown",
   "metadata": {},
   "source": [
    "#### Inference "
   ]
  },
  {
   "cell_type": "code",
   "execution_count": null,
   "metadata": {},
   "outputs": [],
   "source": [
    "with hierarchical_model:\n",
    "    hierarchical_trace = pm.sample(2000, tune=2000, target_accept=.9)"
   ]
  },
  {
   "cell_type": "code",
   "execution_count": null,
   "metadata": {},
   "outputs": [],
   "source": [
    "pm.traceplot(hierarchical_trace, var_names=['mu_a', 'mu_b',\n",
    "                                            'sigma_a', 'sigma_b']);"
   ]
  },
  {
   "cell_type": "code",
   "execution_count": null,
   "metadata": {},
   "outputs": [],
   "source": [
    "results = pm.summary(hierarchical_trace) \n",
    "results[:10] "
   ]
  },
  {
   "cell_type": "code",
   "execution_count": null,
   "metadata": {},
   "outputs": [],
   "source": [
    "# plot just a subset of the countries\n",
    "counties = ['HENNEPIN','AITKIN','WASHINGTON', 'LAKE OF THE WOODS', 'YELLOW MEDICINE', 'ANOKA']\n",
    "\n",
    "plt.figure(figsize=(10,5))\n",
    "rows = 2\n",
    "gs = gridspec.GridSpec(rows, len(counties)//rows)\n",
    "  \n",
    "for i, county in enumerate(counties):\n",
    "    county_data = data.loc[data['county']==county]\n",
    "    subplt = plt.subplot(gs[i])\n",
    "    \n",
    "    # pooled line (single values coeff for all)\n",
    "    xx = np.linspace(-0.2, 1.2)    \n",
    "    radon_est = pooled_trace['a'].mean() + pooled_trace['b'].mean()*xx\n",
    "    \n",
    "    radon_est_hier = np.mean(hierarchical_trace['a'][i]) + \\\n",
    "                      np.mean(hierarchical_trace['b'][i])*xx \n",
    "\n",
    "    # un-pooled (single subject)\n",
    "    sns.regplot(x='floor', y='log_radon', ci=None, label='unpooled',\n",
    "                data=county_data).set_title('County '+str(county))\n",
    "    \n",
    "    # hierarchical line\n",
    "    subplt.set_ylim(0.,4.)\n",
    "    subplt.scatter(county_data['floor'], county_data['log_radon'])\n",
    "    subplt.plot(xx, radon_est, c='r', label='pooled');\n",
    "    \n",
    "    # plot the hierarchical, varying coefficient model\n",
    "    subplt.plot(xx, radon_est_hier, c='g', label='hierarchical');\n",
    "    \n",
    "    subplt.set_xlabel('floor', fontsize=10)\n",
    "    subplt.set_ylabel('radon level', fontsize=10)\n",
    "    subplt.set_title(str(county) + ' County')\n",
    "    subplt.legend()\n",
    "    plt.tight_layout()"
   ]
  },
  {
   "cell_type": "markdown",
   "metadata": {},
   "source": [
    "This tutorial is modified from PyMC3 docs: https://docs.pymc.io/notebooks/GLM-hierarchical.html"
   ]
  }
 ],
 "metadata": {
  "kernelspec": {
   "display_name": "Python 3 (ipykernel)",
   "language": "python",
   "name": "python3"
  },
  "language_info": {
   "codemirror_mode": {
    "name": "ipython",
    "version": 3
   },
   "file_extension": ".py",
   "mimetype": "text/x-python",
   "name": "python",
   "nbconvert_exporter": "python",
   "pygments_lexer": "ipython3",
   "version": "3.8.12"
  }
 },
 "nbformat": 4,
 "nbformat_minor": 1
}
