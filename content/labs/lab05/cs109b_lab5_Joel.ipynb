{
 "cells": [
  {
   "cell_type": "markdown",
   "id": "cced4a97",
   "metadata": {},
   "source": [
    "# <img style=\"float: left; padding-right: 10px; width: 45px\" src=\"https://raw.githubusercontent.com/Harvard-IACS/2018-CS109A/master/content/styles/iacs.png\"> CS109A Introduction to Data Science\n",
    "\n",
    "## Lab 5:  Feed Forward Neural Networks 2 (Training, Evaluation, & Interogation)\n",
    "\n",
    "**Harvard University**<br/>\n",
    "**Spring 2022**<br/>\n",
    "**Instructors**: Mark Glickman & Pavlos Protopapas<br/>\n",
    "**Lab Team**: Eleni Kaxiras, Marios Mattheakis, Chris Gumb, Shivas Jayaram\n",
    "<br/>"
   ]
  },
  {
   "cell_type": "markdown",
   "id": "5b75884e",
   "metadata": {},
   "source": [
    "### Table of Contents\n",
    "- Building a NN /w Keras Quick Review\n",
    "- Learning weights from Data\n",
    "- Evaluating a Keras Model\n",
    "- Inspecting Training History\n",
    "- Multi-class Classification Example (Tabular Data)\n",
    "- Interpreting Our Black Box NN\n",
    "- Bagging Review\n",
    "- Image Classification Example"
   ]
  },
  {
   "cell_type": "code",
   "execution_count": 1,
   "id": "a7ecc41f",
   "metadata": {},
   "outputs": [],
   "source": [
    "import pandas as pd\n",
    "import matplotlib.pyplot as plt\n",
    "import numpy as np"
   ]
  },
  {
   "cell_type": "markdown",
   "id": "f113eb01",
   "metadata": {},
   "source": [
    "Let's revisit the toy dataset from the first NN lab."
   ]
  },
  {
   "cell_type": "code",
   "execution_count": 5,
   "id": "3da200c4",
   "metadata": {},
   "outputs": [],
   "source": [
    "# Load toy data\n",
    "toydata = pd.read_csv('data/toyDataSet_1.csv')\n",
    "x_toy = toydata['x'].values.reshape(-1,1)\n",
    "y_toy = toydata['y'].values.reshape(-1,1)"
   ]
  },
  {
   "cell_type": "code",
   "execution_count": 6,
   "id": "e89deba0",
   "metadata": {},
   "outputs": [
    {
     "data": {
      "image/png": "[encoded data removed]",
      "text/plain": [
       "<Figure size 432x288 with 1 Axes>"
      ]
     },
     "metadata": {
      "needs_background": "light"
     },
     "output_type": "display_data"
    }
   ],
   "source": [
    "# Plot toy data\n",
    "ax = plt.gca()\n",
    "ax.scatter(x_toy, y_toy)\n",
    "ax.set_xlabel('x')\n",
    "ax.set_ylabel('y')\n",
    "ax.set_title('Toy Dataset');"
   ]
  },
  {
   "cell_type": "code",
   "execution_count": 7,
   "id": "11cc7d93",
   "metadata": {},
   "outputs": [],
   "source": [
    "from tensorflow.keras import models, layers, activations\n",
    "from tensorflow.keras.models import Sequential\n",
    "from tensorflow.keras.layers import Dense, Input, InputLayer # Input \"layer\"?!?"
   ]
  },
  {
   "cell_type": "markdown",
   "id": "ab519145",
   "metadata": {},
   "source": [
    "Here we construct a sequential Keras model with one Dense hidden layer containing only a single neuron with a relu activation.\\\n",
    "The output layer will be of size 1 and have no activation (e.g., 'linear')."
   ]
  },
  {
   "cell_type": "code",
   "execution_count": 8,
   "id": "18c2d31b",
   "metadata": {},
   "outputs": [
    {
     "name": "stdout",
     "output_type": "stream",
     "text": [
      "Model: \"toy_model\"\n",
      "_________________________________________________________________\n",
      " Layer (type)                Output Shape              Param #   \n",
      "=================================================================\n",
      " dense (Dense)               (None, 1)                 2         \n",
      "                                                                 \n",
      " dense_1 (Dense)             (None, 1)                 2         \n",
      "                                                                 \n",
      "=================================================================\n",
      "Total params: 4\n",
      "Trainable params: 4\n",
      "Non-trainable params: 0\n",
      "_________________________________________________________________\n"
     ]
    }
   ],
   "source": [
    "# Instantiate sequential Keras model and give it a name\n",
    "toy_model = Sequential(name='toy_model')\n",
    "\n",
    "# Despite designation in Keras, Input is not a true layer\n",
    "# It only specifies the shape of the input\n",
    "# toy_model.add(Input(shape=(1,)))\n",
    "              \n",
    "# hidden layer with 1 neurons (or nodes)\n",
    "toy_model.add(Dense(1, activation='relu', input_shape=(1, )))\n",
    "\n",
    "# output layer, one neuron \n",
    "toy_model.add(Dense(1,  activation='linear'))\n",
    "\n",
    "toy_model.summary()"
   ]
  },
  {
   "cell_type": "code",
   "execution_count": 9,
   "id": "cb8fd268",
   "metadata": {},
   "outputs": [
    {
     "data": {
      "text/plain": [
       "[array([[-1.4402347]], dtype=float32),\n",
       " array([0.], dtype=float32),\n",
       " array([[1.5312871]], dtype=float32),\n",
       " array([0.], dtype=float32)]"
      ]
     },
     "execution_count": 9,
     "metadata": {},
     "output_type": "execute_result"
    }
   ],
   "source": [
    "toy_model.get_weights()"
   ]
  },
  {
   "cell_type": "markdown",
   "id": "935e97c0",
   "metadata": {},
   "source": [
    "<div class='exercise'> <b>Compiling the NN</div>\n",
    "\n",
    "    \n"
   ]
  },
  {
   "cell_type": "markdown",
   "id": "623982b7",
   "metadata": {},
   "source": [
    "`model.compile(optimizer, loss, metrics, **kwargs)`\n",
    "\n",
    "`optimizer` - defines how the weights are updated (we'll use SGD)\\\n",
    "`loss` - what the model is trying to minimize\\\n",
    "`metric` - list of metrics to report during training process\n",
    "\n",
    "`compile` is used to configure a NN model so that it can be fit. We aren't ready to fit *just* yet. We are going to manually set our weights before training so we need to to the compilation first.\n",
    "\n",
    "<font color = 'blue'>\n",
    "       \n",
    "Compile defines the loss function, the optimizer and the metrics. That's all. It has nothing to do with the weights and you can compile a model as many times as you want without causing any problem to pretrained weights.\n",
    "</font>"
   ]
  },
  {
   "cell_type": "markdown",
   "id": "11cdd9c5",
   "metadata": {},
   "source": [
    "**Q:** Why do I want metrics if I already have a loss?"
   ]
  },
  {
   "cell_type": "code",
   "execution_count": 10,
   "id": "c0ff57fb",
   "metadata": {},
   "outputs": [],
   "source": [
    "import tensorflow as tf\n",
    "from tensorflow.keras import optimizers, losses, metrics\n",
    "from tensorflow.keras.optimizers import SGD\n",
    "from tensorflow.keras.losses import mse"
   ]
  },
  {
   "cell_type": "code",
   "execution_count": 11,
   "id": "f2b2bf52",
   "metadata": {},
   "outputs": [
    {
     "data": {
      "text/plain": [
       "[array([[-1.4402347]], dtype=float32),\n",
       " array([0.], dtype=float32),\n",
       " array([[1.5312871]], dtype=float32),\n",
       " array([0.], dtype=float32)]"
      ]
     },
     "execution_count": 11,
     "metadata": {},
     "output_type": "execute_result"
    }
   ],
   "source": [
    "toy_model.compile(optimizer=tf.keras.optimizers.SGD(learning_rate=1e-1), loss='mse', metrics=[])\n",
    "\n",
    "# get the ranomly initialized weights\n",
    "toy_model.get_weights()"
   ]
  },
  {
   "cell_type": "markdown",
   "id": "3ceba1e3",
   "metadata": {},
   "source": [
    "<div class='exercise'> <b>A little nudge...</div>\n",
    "\n",
    "    \n"
   ]
  },
  {
   "cell_type": "markdown",
   "id": "2e8a1217",
   "metadata": {},
   "source": [
    "Our toy model is very simple. It only has 4 weights. But the problem there are only 4 possible weight values that would make this a good fit. That is like finding a needle in a haystack. So we will cheat a bit and initialize our weights in the 'neighborhood' of the true weights which generated the data. Our future models will be complex enough that we won't need to worry about finding a specific combination of weights: some local minima (but not all) will do the job just fine."
   ]
  },
  {
   "cell_type": "code",
   "execution_count": 12,
   "id": "2af6dab1",
   "metadata": {},
   "outputs": [
    {
     "name": "stdout",
     "output_type": "stream",
     "text": [
      "Randomly Initialized Weights:\n",
      "{'w1': -1.4402347, 'b1': 0.0, 'w2': 1.5312871, 'b2': 0.0}\n",
      "\n",
      "Manually Initialized Weights:\n",
      "{'w1': 1.85, 'b1': -0.5, 'w2': 0.9, 'b2': 0.4}\n"
     ]
    }
   ],
   "source": [
    "# A FUNCTION THAT READS AND PRINTS OUT THE MODEL WEIGHTS/BIASES\n",
    "def print_weights(model):\n",
    "    weights = model.get_weights()\n",
    "    print(dict(zip([\"w1\", \"b1\", \"w2\", \"b2\"], [weight.flatten()[0] for weight in weights])))\n",
    "\n",
    "# MANUALLY SETTING THE WEIGHTS/BIASES\n",
    "## True weights from data generating function\n",
    "# w1 = 2\n",
    "# b1 = 0.0\n",
    "# w2  = 1\n",
    "# b2  = 0.5\n",
    "\n",
    "print('Randomly Initialized Weights:')\n",
    "print_weights(toy_model)\n",
    "\n",
    "# Initialize weights to that 'neighborhood'\n",
    "w1 = 1.85\n",
    "b1 = -0.5\n",
    "w2  = 0.9\n",
    "b2  = 0.4\n",
    "\n",
    "# Store current weight data structure\n",
    "weights = toy_model.get_weights()\n",
    "# hidden layer\n",
    "weights[0][0] = np.array([w1]) #weights \n",
    "weights[1]    = np.array([b1]) # biases\n",
    "# output layer \n",
    "weights[2]    = np.array([[w2]]) # weights\n",
    "weights[3]    = np.array([b2])    # bias\n",
    "# hidden layer\n",
    "# Set the weights\n",
    "toy_model.set_weights(weights)\n",
    "\n",
    "print('\\nManually Initialized Weights:')\n",
    "print_weights(toy_model)"
   ]
  },
  {
   "cell_type": "markdown",
   "id": "dacc5104",
   "metadata": {},
   "source": [
    "<div class='exercise'> <b>Forward Pass Review</b></div>\n",
    "\n",
    "    \n"
   ]
  },
  {
   "cell_type": "markdown",
   "id": "b5f0cd37",
   "metadata": {},
   "source": [
    "**Input, Hidden Layers, and Output Layers**\n",
    "\n",
    "The **forward** pass through an FFNN  is  a sequence of linear (affine) and nonlinear operations (activation). \n",
    "\n",
    "\n",
    "<img src=\"fig/forward.jpg\" width=\"70%\"/>"
   ]
  },
  {
   "cell_type": "markdown",
   "id": "b0a0a2c7",
   "metadata": {},
   "source": [
    "We use the model's `predict` method to execut the forward pass with a linspace spanning the range of the `x` data as input."
   ]
  },
  {
   "cell_type": "code",
   "execution_count": 13,
   "id": "ba1cbe85",
   "metadata": {},
   "outputs": [
    {
     "data": {
      "image/png": "[encoded data removed]",
      "text/plain": [
       "<Figure size 432x288 with 1 Axes>"
      ]
     },
     "metadata": {
      "needs_background": "light"
     },
     "output_type": "display_data"
    }
   ],
   "source": [
    "# Predict\n",
    "# out input is actually of 1-D, not 2-D as in the figure above\n",
    "x_lin = np.linspace(x_toy.min(), x_toy.max(), 500)\n",
    "y_hat = toy_model.predict(x_lin)\n",
    "\n",
    "# Plot\n",
    "plt.scatter(x_toy, y_toy, alpha=0.4, lw=4, label='data')\n",
    "plt.plot(x_lin, y_hat, label='NN', ls='--', c='r')\n",
    "\n",
    "plt.xlabel('x')\n",
    "plt.ylabel('y')\n",
    "plt.title('Predictions with Manually Set Weights')\n",
    "plt.legend();"
   ]
  },
  {
   "cell_type": "markdown",
   "id": "5d5ab0b1",
   "metadata": {},
   "source": [
    "We'll let back propogation and stochastic gradient descent take it from here."
   ]
  },
  {
   "cell_type": "markdown",
   "id": "ad4e726c",
   "metadata": {},
   "source": [
    "<div class='exercise'> <b>Back Propogation & SGD Review</b></div>\n",
    "\n",
    "    \n"
   ]
  },
  {
   "cell_type": "markdown",
   "id": "971d11af",
   "metadata": {},
   "source": [
    "The **backward** pass is the training. It is based on the chain rule of calculus, and it calculates the gradient of the loss w.r.t. the weights. This gradient is used by the optimizer to update the weights to minimize the loss function.\n",
    "\n",
    "<img src=\"fig/dl.jpg\" width=\"70%\"/>"
   ]
  },
  {
   "cell_type": "markdown",
   "id": "baa31c2c",
   "metadata": {},
   "source": [
    "**Batching, stochastic gradient descent, and epochs**\n",
    "Shuffle and partition the dataset in mini-batches to help escape from local minima. Each batch is seen once per epoch. And thus each observation is also seen once per epoch. We can train the network for as many epochs as we like.\n",
    "\n",
    "<img src=\"fig/batching.jpg\" width=\"70%\"/>"
   ]
  },
  {
   "cell_type": "markdown",
   "id": "f1c76b0c",
   "metadata": {},
   "source": [
    "<div class='exercise'> <b>Reproducibility</b></div>    \n"
   ]
  },
  {
   "cell_type": "markdown",
   "id": "5639100f",
   "metadata": {},
   "source": [
    "There is a lot of stochasticity in the training of neural networks, from weight initilizations, to shuffling of data between epochs.\\\n",
    "\n",
    "Below is some code that appears to be working for me to get reproducible results. Though I think some of the steps taken may be purely superstitious."
   ]
  },
  {
   "cell_type": "code",
   "execution_count": 14,
   "id": "0f53ead7",
   "metadata": {},
   "outputs": [],
   "source": [
    "# Advice gleaned from: https://deeplizard.com/learn/video/HcW0DeWRggs\n",
    "import os\n",
    "import random as rn\n",
    "\n",
    "os.environ['PYTHONHASHSEED'] = '0'\n",
    "os.environ['CUDA_VISIBLE_DEVICES'] = ''\n",
    "tf.random.set_seed(109)\n",
    "np.random.seed(109)\n",
    "rn.seed(109)"
   ]
  },
  {
   "cell_type": "markdown",
   "id": "b0260c9a",
   "metadata": {},
   "source": [
    "<div class='exercise'> <b>Fitting the NN</div>    "
   ]
  },
  {
   "cell_type": "markdown",
   "id": "9ecb3ade",
   "metadata": {},
   "source": [
    "`Model.fit(x=None, y=None, batch_size=None, epochs=1, verbose=\"auto\", validation_split=0.0, validation_data=None, shuffle=True, **kwargs)`\n",
    "\n",
    "`batch_size` - number of observations overwhich the loss is calculated before each weight update\\\n",
    "`epochs` - number of times the complete dataset is seen in the fitting process\\\n",
    "`verbose` - you can silence the training output by setting this to `0`\\\n",
    "`validation_split` - splits off a portion of the `x` and `y` training data to be used as validation (see warning below)\\\n",
    "`validation_data` - tuple designating a seperate `x_val` and `y_val` dataset\\\n",
    "`shuffle` - whether to shuffle the training data before each epoch"
   ]
  },
  {
   "cell_type": "markdown",
   "id": "1aac7f02",
   "metadata": {},
   "source": [
    "We fit the model for 100 `epochs` and set `batch_size` to 64. The results of `fit()` are then stored in a variable called `history`.  "
   ]
  },
  {
   "cell_type": "code",
   "execution_count": 15,
   "id": "596ea85a",
   "metadata": {
    "scrolled": true
   },
   "outputs": [
    {
     "name": "stdout",
     "output_type": "stream",
     "text": [
      "Epoch 1/100\n",
      "1/1 [==============================] - 0s 198ms/step - loss: 0.2432\n",
      "Epoch 2/100\n",
      "1/1 [==============================] - 0s 16ms/step - loss: 0.1465\n",
      "Epoch 3/100\n",
      "1/1 [==============================] - 0s 6ms/step - loss: 0.0889\n",
      "Epoch 4/100\n",
      "1/1 [==============================] - 0s 29ms/step - loss: 0.0558\n",
      "Epoch 5/100\n",
      "1/1 [==============================] - 0s 30ms/step - loss: 0.0375\n",
      "Epoch 6/100\n",
      "1/1 [==============================] - 0s 64ms/step - loss: 0.0271\n",
      "Epoch 7/100\n",
      "1/1 [==============================] - 0s 45ms/step - loss: 0.0213\n",
      "Epoch 8/100\n",
      "1/1 [==============================] - 0s 17ms/step - loss: 0.0179\n",
      "Epoch 9/100\n",
      "1/1 [==============================] - 0s 20ms/step - loss: 0.0158\n",
      "Epoch 10/100\n",
      "1/1 [==============================] - 0s 4ms/step - loss: 0.0141\n",
      "Epoch 11/100\n",
      "1/1 [==============================] - 0s 5ms/step - loss: 0.0129\n",
      "Epoch 12/100\n",
      "1/1 [==============================] - 0s 4ms/step - loss: 0.0120\n",
      "Epoch 13/100\n",
      "1/1 [==============================] - 0s 3ms/step - loss: 0.0112\n",
      "Epoch 14/100\n",
      "1/1 [==============================] - 0s 4ms/step - loss: 0.0105\n",
      "Epoch 15/100\n",
      "1/1 [==============================] - 0s 3ms/step - loss: 0.0099\n",
      "Epoch 16/100\n",
      "1/1 [==============================] - 0s 4ms/step - loss: 0.0094\n",
      "Epoch 17/100\n",
      "1/1 [==============================] - 0s 5ms/step - loss: 0.0090\n",
      "Epoch 18/100\n",
      "1/1 [==============================] - 0s 4ms/step - loss: 0.0086\n",
      "Epoch 19/100\n",
      "1/1 [==============================] - 0s 4ms/step - loss: 0.0083\n",
      "Epoch 20/100\n",
      "1/1 [==============================] - 0s 5ms/step - loss: 0.0080\n",
      "Epoch 21/100\n",
      "1/1 [==============================] - 0s 4ms/step - loss: 0.0077\n",
      "Epoch 22/100\n",
      "1/1 [==============================] - 0s 4ms/step - loss: 0.0074\n",
      "Epoch 23/100\n",
      "1/1 [==============================] - 0s 6ms/step - loss: 0.0071\n",
      "Epoch 24/100\n",
      "1/1 [==============================] - 0s 5ms/step - loss: 0.0069\n",
      "Epoch 25/100\n",
      "1/1 [==============================] - 0s 4ms/step - loss: 0.0067\n",
      "Epoch 26/100\n",
      "1/1 [==============================] - 0s 4ms/step - loss: 0.0065\n",
      "Epoch 27/100\n",
      "1/1 [==============================] - 0s 3ms/step - loss: 0.0063\n",
      "Epoch 28/100\n",
      "1/1 [==============================] - 0s 3ms/step - loss: 0.0062\n",
      "Epoch 29/100\n",
      "1/1 [==============================] - 0s 6ms/step - loss: 0.0060\n",
      "Epoch 30/100\n",
      "1/1 [==============================] - 0s 4ms/step - loss: 0.0059\n",
      "Epoch 31/100\n",
      "1/1 [==============================] - 0s 5ms/step - loss: 0.0057\n",
      "Epoch 32/100\n",
      "1/1 [==============================] - 0s 5ms/step - loss: 0.0056\n",
      "Epoch 33/100\n",
      "1/1 [==============================] - 0s 3ms/step - loss: 0.0055\n",
      "Epoch 34/100\n",
      "1/1 [==============================] - 0s 3ms/step - loss: 0.0054\n",
      "Epoch 35/100\n",
      "1/1 [==============================] - 0s 3ms/step - loss: 0.0053\n",
      "Epoch 36/100\n",
      "1/1 [==============================] - 0s 3ms/step - loss: 0.0052\n",
      "Epoch 37/100\n",
      "1/1 [==============================] - 0s 3ms/step - loss: 0.0051\n",
      "Epoch 38/100\n",
      "1/1 [==============================] - 0s 3ms/step - loss: 0.0050\n",
      "Epoch 39/100\n",
      "1/1 [==============================] - 0s 3ms/step - loss: 0.0049\n",
      "Epoch 40/100\n",
      "1/1 [==============================] - 0s 3ms/step - loss: 0.0048\n",
      "Epoch 41/100\n",
      "1/1 [==============================] - 0s 4ms/step - loss: 0.0048\n",
      "Epoch 42/100\n",
      "1/1 [==============================] - 0s 4ms/step - loss: 0.0047\n",
      "Epoch 43/100\n",
      "1/1 [==============================] - 0s 5ms/step - loss: 0.0046\n",
      "Epoch 44/100\n",
      "1/1 [==============================] - 0s 3ms/step - loss: 0.0046\n",
      "Epoch 45/100\n",
      "1/1 [==============================] - 0s 4ms/step - loss: 0.0045\n",
      "Epoch 46/100\n",
      "1/1 [==============================] - 0s 3ms/step - loss: 0.0044\n",
      "Epoch 47/100\n",
      "1/1 [==============================] - 0s 4ms/step - loss: 0.0044\n",
      "Epoch 48/100\n",
      "1/1 [==============================] - 0s 3ms/step - loss: 0.0043\n",
      "Epoch 49/100\n",
      "1/1 [==============================] - 0s 3ms/step - loss: 0.0043\n",
      "Epoch 50/100\n",
      "1/1 [==============================] - 0s 3ms/step - loss: 0.0042\n",
      "Epoch 51/100\n",
      "1/1 [==============================] - 0s 3ms/step - loss: 0.0041\n",
      "Epoch 52/100\n",
      "1/1 [==============================] - 0s 3ms/step - loss: 0.0041\n",
      "Epoch 53/100\n",
      "1/1 [==============================] - 0s 3ms/step - loss: 0.0040\n",
      "Epoch 54/100\n",
      "1/1 [==============================] - 0s 5ms/step - loss: 0.0040\n",
      "Epoch 55/100\n",
      "1/1 [==============================] - 0s 2ms/step - loss: 0.0039\n",
      "Epoch 56/100\n",
      "1/1 [==============================] - 0s 3ms/step - loss: 0.0039\n",
      "Epoch 57/100\n",
      "1/1 [==============================] - 0s 3ms/step - loss: 0.0038\n",
      "Epoch 58/100\n",
      "1/1 [==============================] - 0s 4ms/step - loss: 0.0038\n",
      "Epoch 59/100\n",
      "1/1 [==============================] - 0s 4ms/step - loss: 0.0037\n",
      "Epoch 60/100\n",
      "1/1 [==============================] - 0s 3ms/step - loss: 0.0037\n",
      "Epoch 61/100\n",
      "1/1 [==============================] - 0s 3ms/step - loss: 0.0036\n",
      "Epoch 62/100\n",
      "1/1 [==============================] - 0s 3ms/step - loss: 0.0036\n",
      "Epoch 63/100\n",
      "1/1 [==============================] - 0s 3ms/step - loss: 0.0036\n",
      "Epoch 64/100\n",
      "1/1 [==============================] - 0s 3ms/step - loss: 0.0035\n",
      "Epoch 65/100\n",
      "1/1 [==============================] - 0s 4ms/step - loss: 0.0035\n",
      "Epoch 66/100\n",
      "1/1 [==============================] - 0s 3ms/step - loss: 0.0035\n",
      "Epoch 67/100\n",
      "1/1 [==============================] - 0s 3ms/step - loss: 0.0034\n",
      "Epoch 68/100\n",
      "1/1 [==============================] - 0s 4ms/step - loss: 0.0034\n",
      "Epoch 69/100\n",
      "1/1 [==============================] - 0s 5ms/step - loss: 0.0034\n",
      "Epoch 70/100\n",
      "1/1 [==============================] - 0s 5ms/step - loss: 0.0033\n",
      "Epoch 71/100\n",
      "1/1 [==============================] - 0s 3ms/step - loss: 0.0033\n",
      "Epoch 72/100\n",
      "1/1 [==============================] - 0s 3ms/step - loss: 0.0033\n",
      "Epoch 73/100\n",
      "1/1 [==============================] - 0s 3ms/step - loss: 0.0032\n",
      "Epoch 74/100\n",
      "1/1 [==============================] - 0s 4ms/step - loss: 0.0032\n",
      "Epoch 75/100\n",
      "1/1 [==============================] - 0s 3ms/step - loss: 0.0032\n",
      "Epoch 76/100\n",
      "1/1 [==============================] - 0s 5ms/step - loss: 0.0032\n",
      "Epoch 77/100\n",
      "1/1 [==============================] - 0s 3ms/step - loss: 0.0031\n",
      "Epoch 78/100\n",
      "1/1 [==============================] - 0s 3ms/step - loss: 0.0031\n",
      "Epoch 79/100\n",
      "1/1 [==============================] - 0s 3ms/step - loss: 0.0031\n",
      "Epoch 80/100\n",
      "1/1 [==============================] - 0s 4ms/step - loss: 0.0031\n",
      "Epoch 81/100\n",
      "1/1 [==============================] - 0s 3ms/step - loss: 0.0030\n",
      "Epoch 82/100\n",
      "1/1 [==============================] - 0s 4ms/step - loss: 0.0030\n",
      "Epoch 83/100\n",
      "1/1 [==============================] - 0s 4ms/step - loss: 0.0030\n",
      "Epoch 84/100\n",
      "1/1 [==============================] - 0s 4ms/step - loss: 0.0030\n",
      "Epoch 85/100\n",
      "1/1 [==============================] - 0s 3ms/step - loss: 0.0030\n",
      "Epoch 86/100\n",
      "1/1 [==============================] - 0s 4ms/step - loss: 0.0029\n",
      "Epoch 87/100\n",
      "1/1 [==============================] - 0s 5ms/step - loss: 0.0029\n",
      "Epoch 88/100\n",
      "1/1 [==============================] - 0s 3ms/step - loss: 0.0029\n",
      "Epoch 89/100\n",
      "1/1 [==============================] - 0s 4ms/step - loss: 0.0029\n",
      "Epoch 90/100\n",
      "1/1 [==============================] - 0s 3ms/step - loss: 0.0029\n",
      "Epoch 91/100\n",
      "1/1 [==============================] - 0s 4ms/step - loss: 0.0029\n",
      "Epoch 92/100\n",
      "1/1 [==============================] - 0s 3ms/step - loss: 0.0028\n",
      "Epoch 93/100\n",
      "1/1 [==============================] - 0s 3ms/step - loss: 0.0028\n",
      "Epoch 94/100\n",
      "1/1 [==============================] - 0s 6ms/step - loss: 0.0028\n",
      "Epoch 95/100\n",
      "1/1 [==============================] - 0s 4ms/step - loss: 0.0028\n",
      "Epoch 96/100\n",
      "1/1 [==============================] - 0s 3ms/step - loss: 0.0028\n",
      "Epoch 97/100\n",
      "1/1 [==============================] - 0s 3ms/step - loss: 0.0028\n",
      "Epoch 98/100\n",
      "1/1 [==============================] - 0s 3ms/step - loss: 0.0028\n",
      "Epoch 99/100\n",
      "1/1 [==============================] - 0s 4ms/step - loss: 0.0028\n",
      "Epoch 100/100\n",
      "1/1 [==============================] - 0s 3ms/step - loss: 0.0027\n"
     ]
    }
   ],
   "source": [
    "# Fit model and store training histry\n",
    "history = toy_model.fit(x_toy, y_toy, epochs=100, batch_size=64, verbose=1)"
   ]
  },
  {
   "cell_type": "markdown",
   "id": "ceccbfd5",
   "metadata": {},
   "source": [
    "<div class='exercise'> <b>Plot Training History</div>\n",
    "\n",
    "`history.history` is a dictionary which contains information from each training epoch (no, I don't know the rationale behind the double name). Use it to plot the loss across epochs. Don't forget those labels!"
   ]
  },
  {
   "cell_type": "code",
   "execution_count": 16,
   "id": "4d7aa069",
   "metadata": {},
   "outputs": [
    {
     "data": {
      "image/png": "[encoded data removed]",
      "text/plain": [
       "<Figure size 432x288 with 1 Axes>"
      ]
     },
     "metadata": {
      "needs_background": "light"
     },
     "output_type": "display_data"
    }
   ],
   "source": [
    "# Plot training history\n",
    "plt.plot(history.history['loss'], c='r')\n",
    "plt.ylabel('MSE loss')\n",
    "plt.xlabel('epoch')\n",
    "plt.title('NN Training History');"
   ]
  },
  {
   "cell_type": "code",
   "execution_count": 17,
   "id": "4c4d6ed1",
   "metadata": {},
   "outputs": [
    {
     "name": "stdout",
     "output_type": "stream",
     "text": [
      "{'w1': 1.9872459, 'b1': -0.051335897, 'w2': 1.0406225, 'b2': 0.5044429}\n"
     ]
    }
   ],
   "source": [
    "# Weights learned for the data\n",
    "print_weights(toy_model)"
   ]
  },
  {
   "cell_type": "markdown",
   "id": "8929e471",
   "metadata": {},
   "source": [
    "We can see we've moved much closer to the original weights after fitting."
   ]
  },
  {
   "cell_type": "markdown",
   "id": "c89a0034",
   "metadata": {},
   "source": [
    "But visualizing our model's predictions will make this more clear."
   ]
  },
  {
   "cell_type": "markdown",
   "id": "d4910cac",
   "metadata": {},
   "source": [
    "<div class='exercise'> <b>Predict & Plot</div>\n",
    "\n",
    "We use the model's `predict` method on a linspace, `x_lin`, which we construct to span the range of the dataset's $x$ values. We save the resulting predictions in `y_hat`"
   ]
  },
  {
   "cell_type": "code",
   "execution_count": 18,
   "id": "8430beab",
   "metadata": {},
   "outputs": [
    {
     "data": {
      "image/png": "[encoded data removed]",
      "text/plain": [
       "<Figure size 432x288 with 1 Axes>"
      ]
     },
     "metadata": {
      "needs_background": "light"
     },
     "output_type": "display_data"
    }
   ],
   "source": [
    "# Predict\n",
    "x_lin = np.linspace(x_toy.min(), x_toy.max(), 500)\n",
    "y_hat = toy_model.predict(x_lin)\n",
    "\n",
    "# Plot\n",
    "plt.scatter(x_toy, y_toy, alpha=0.4, lw=4, label='data')\n",
    "plt.plot(x_lin, y_hat, label='NN', ls='--', c='r')\n",
    "\n",
    "plt.xlabel('x')\n",
    "plt.ylabel('y')\n",
    "plt.title('Predictions After Training')\n",
    "plt.legend();"
   ]
  },
  {
   "cell_type": "markdown",
   "id": "5982d157",
   "metadata": {},
   "source": [
    "Much better! But perhaps you are not impressed yet?"
   ]
  },
  {
   "cell_type": "markdown",
   "id": "31d39807",
   "metadata": {},
   "source": [
    "<div class='exercise'> <b>An Ugly Function</div>\n",
    "    "
   ]
  },
  {
   "cell_type": "code",
   "execution_count": 19,
   "id": "999cc1a9",
   "metadata": {},
   "outputs": [],
   "source": [
    "def ugly_function(x):\n",
    "    if x < 0:\n",
    "        return np.exp(-(x**2))/2 + 1 + np.exp(-((10*x)**2))\n",
    "    else:\n",
    "        return np.exp(-(x**2)) + np.exp(-((10*x)**2))"
   ]
  },
  {
   "cell_type": "markdown",
   "id": "09d9cc9b",
   "metadata": {},
   "source": [
    "How do you feel about the prospect of manually setting the weights to approximate this beauty?"
   ]
  },
  {
   "cell_type": "code",
   "execution_count": 20,
   "id": "11beb608",
   "metadata": {},
   "outputs": [
    {
     "data": {
      "image/png": "[encoded data removed]",
      "text/plain": [
       "<Figure size 432x288 with 1 Axes>"
      ]
     },
     "metadata": {
      "needs_background": "light"
     },
     "output_type": "display_data"
    }
   ],
   "source": [
    "# Generate data\n",
    "x_ugly = np.linspace(-3,3,1500) # create x-values for input\n",
    "y_ugly = np.array(list(map(ugly_function, x_ugly)))\n",
    "\n",
    "# Plot data\n",
    "plt.plot(x_ugly, y_ugly);\n",
    "plt.title('An Ugly Function')\n",
    "plt.xlabel('X')\n",
    "plt.ylabel('Y');"
   ]
  },
  {
   "cell_type": "markdown",
   "id": "81256542",
   "metadata": {},
   "source": [
    "And here we don't even have the option of cheating by initializing our weights strategically!"
   ]
  },
  {
   "cell_type": "markdown",
   "id": "fcadef3a",
   "metadata": {},
   "source": [
    "<div class=\"alert alert-success\">\n",
    "    <strong>🏋🏻‍♂️ TEAM ACTIVITY:</strong> We're Gonna Need a Bigger Model...</div>  "
   ]
  },
  {
   "cell_type": "markdown",
   "id": "dbcdb709",
   "metadata": {},
   "source": [
    "1. Complete the `build_nn` function for quickly constructing different NN architectures.\n",
    "    \n",
    "2. Use `build_nn` to construct an NN to approximate the ugly function\n",
    "    \n",
    "3. Compile the model & print its summary\n",
    "    -  _Tip: Remember, if it is the last line of the cell, Jupyter will display the return value without an explicit call to `print()` required. In fact, Jupyter uses its own `display()` function which often results in prettier output for tables_\n",
    "4. Fit the model\n",
    "\n",
    "5. Plot the training history\n",
    "    \n",
    "Hyperparameters to play with:\n",
    "- Architecture\n",
    "    - Number of hidden layers\n",
    "    - Number of neurons in each hidden layer\n",
    "    - Hidden layers' `activation` function\n",
    "- Training\n",
    "    - `SGD`'s `learning_rate`\n",
    "    - `batch_size`\n",
    "    - `epochs`\n"
   ]
  },
  {
   "cell_type": "markdown",
   "id": "4945bf96",
   "metadata": {},
   "source": [
    "**NN Build Function**\\\n",
    "**Arguments:**\n",
    "- `name`: str - A name for your NN.\n",
    "- `input_shape`: tuple - number of predictors in input (remember the trailing ','!)\n",
    "- `hidden_dims`: list of int - specifies the number of neurons in each hidden layer\n",
    "    - Ex: [2,4,8] would mean 3 hidden layers with 2, 4, and 8 neurons respectively\n",
    "- `hidden_act`: str (or Keras activation object) - activation function used by all hidden layers\n",
    "- `out_dim`: int - number of output neurons a.k.a 'ouput units'\n",
    "- `out_act`: str (or Keras activation object) - activation function used by output layer\n",
    "\n",
    "**Hint:** We will reuse this function throughout the notebook in different settings, but you should go ahead and set some sensible defaults for *all* of the arguments."
   ]
  },
  {
   "cell_type": "code",
   "execution_count": 21,
   "id": "2fe3655d",
   "metadata": {},
   "outputs": [
    {
     "data": {
      "text/plain": [
       "'D:\\\\Dropbox\\\\CS109B\\\\Spring2022\\\\2022-CS109B\\\\content\\\\labs\\\\lab05'"
      ]
     },
     "execution_count": 21,
     "metadata": {},
     "output_type": "execute_result"
    }
   ],
   "source": [
    "os.getcwd()"
   ]
  },
  {
   "cell_type": "code",
   "execution_count": 22,
   "id": "27e4ee0d",
   "metadata": {},
   "outputs": [],
   "source": [
    "%load_ext autoreload"
   ]
  },
  {
   "cell_type": "code",
   "execution_count": 23,
   "id": "1e8bda08",
   "metadata": {},
   "outputs": [],
   "source": [
    "# %load .\\solutions\\sol1_1.py\n",
    "def build_NN(name='NN', input_shape=(1,), hidden_dims=[2], hidden_act='relu', out_dim=1, out_act='linear'):\n",
    "    model = Sequential(name=name)\n",
    "    model.add(InputLayer(input_shape=input_shape))\n",
    "    for hidden_dim in hidden_dims:\n",
    "        model.add(Dense(hidden_dim, activation=hidden_act))\n",
    "    model.add(Dense(out_dim, activation=out_act))\n",
    "    return model"
   ]
  },
  {
   "cell_type": "code",
   "execution_count": null,
   "id": "e5efcb02",
   "metadata": {},
   "outputs": [],
   "source": []
  },
  {
   "cell_type": "markdown",
   "id": "7933b00e",
   "metadata": {},
   "source": [
    "**Build & Print Model Summary**\n",
    "\n",
    "Use `build_NN` to construct your model and store it in a variable called `ugly_model`.\\\n",
    "You can play with `hidden_dims` and `hidden_act`."
   ]
  },
  {
   "cell_type": "code",
   "execution_count": 24,
   "id": "ed713aac",
   "metadata": {},
   "outputs": [],
   "source": [
    "# your code here\n",
    "ugly_model = build_NN(name='ugly_model', input_shape=(1,), hidden_dims=[64, 32, 16, 8], hidden_act='relu', out_dim=1, out_act='linear')"
   ]
  },
  {
   "cell_type": "markdown",
   "id": "fdb3658f",
   "metadata": {},
   "source": [
    "**Compile**\\\n",
    "Use the `SGD` optimizer and `'mse'` as your loss.\\\n",
    "You can expermiment with `SGD`'s `learning_rate`."
   ]
  },
  {
   "cell_type": "code",
   "execution_count": 25,
   "id": "a79a6e68",
   "metadata": {},
   "outputs": [],
   "source": [
    "# Compile\n",
    "# your code here\n",
    "ugly_model.compile(optimizer=SGD(learning_rate=1e-1), loss='mse', metrics=[])"
   ]
  },
  {
   "cell_type": "markdown",
   "id": "881cd49c",
   "metadata": {},
   "source": [
    "**Fit**\\\n",
    "Fit `ugly_model` on `x_ugly` and `y_ugly` and store the results in a variable called `history`.\\\n",
    "You can experiment with `epochs` and `batch_size`."
   ]
  },
  {
   "cell_type": "code",
   "execution_count": 26,
   "id": "1623e1d8",
   "metadata": {
    "scrolled": true
   },
   "outputs": [],
   "source": [
    "# Fit\n",
    "# your code here\n",
    "ugly_history = ugly_model.fit(x_ugly, y_ugly, epochs=100, batch_size=64, verbose=0)"
   ]
  },
  {
   "cell_type": "markdown",
   "id": "32f24e25",
   "metadata": {},
   "source": [
    "**Plot Training History**"
   ]
  },
  {
   "cell_type": "markdown",
   "id": "0f917afd",
   "metadata": {},
   "source": [
    "Plot the model's training history. Don't forget your axis labels!\\\n",
    "**Hint:** Remember, `fit` returns a `history` object which itself has a `history` dictionary attribute. Because this (2nd object) is a dictionary, you can always use its `keys`method if you don't know what's in it. You can also access the history from the model itself. Ex: `ugly_model.history.history`"
   ]
  },
  {
   "cell_type": "code",
   "execution_count": 27,
   "id": "698a0928",
   "metadata": {},
   "outputs": [
    {
     "data": {
      "image/png": "[encoded data removed]",
      "text/plain": [
       "<Figure size 432x288 with 1 Axes>"
      ]
     },
     "metadata": {
      "needs_background": "light"
     },
     "output_type": "display_data"
    }
   ],
   "source": [
    "# Plot History\n",
    "# your code here\n",
    "plt.plot(ugly_history.history['loss'], c='r')\n",
    "plt.ylabel('MSE loss')\n",
    "plt.xlabel('epoch')\n",
    "plt.title('NN Training History');"
   ]
  },
  {
   "cell_type": "markdown",
   "id": "48aef551",
   "metadata": {},
   "source": [
    "**Get Predictions**\\\n",
    "Similar to `sklearn` models, `keras` models have a `predict` method. Use your model's `predict` method to predict on `x_ugly` and store the results in a variable called `y_hat_ugly`."
   ]
  },
  {
   "cell_type": "code",
   "execution_count": 28,
   "id": "45ecc51d",
   "metadata": {},
   "outputs": [],
   "source": [
    "# Predict\n",
    "# your code here\n",
    "y_hat_ugly = ugly_model.predict(x_ugly)"
   ]
  },
  {
   "cell_type": "markdown",
   "id": "b41bce42",
   "metadata": {},
   "source": [
    "**Plot Predictions**\\\n",
    "Run the cell below to compare your model's predictions to the true (ugly) function. Still not quite right? Try tweaking some of the hyperparameters above and re-run the cells in this section to see if you can improve."
   ]
  },
  {
   "cell_type": "code",
   "execution_count": 29,
   "id": "56fa7445",
   "metadata": {},
   "outputs": [
    {
     "data": {
      "image/png": "[encoded data removed]",
      "text/plain": [
       "<Figure size 432x288 with 1 Axes>"
      ]
     },
     "metadata": {
      "needs_background": "light"
     },
     "output_type": "display_data"
    }
   ],
   "source": [
    "# Plot predictions\n",
    "plt.plot(x_ugly, y_ugly, alpha=0.4, lw=4, label='true function')\n",
    "plt.plot(x_ugly, y_hat_ugly, label='NN', ls='--', c='r')\n",
    "\n",
    "plt.xlabel('x')\n",
    "plt.ylabel('y')\n",
    "plt.legend();"
   ]
  },
  {
   "cell_type": "markdown",
   "id": "29f05e88",
   "metadata": {},
   "source": [
    "**End of Team Activity**"
   ]
  },
  {
   "cell_type": "markdown",
   "id": "d47898e3",
   "metadata": {},
   "source": [
    "<div class='exercise'> <b>Multi-class Classification with Keras</div>\n"
   ]
  },
  {
   "cell_type": "code",
   "execution_count": 30,
   "id": "8e8c08c0",
   "metadata": {},
   "outputs": [],
   "source": [
    "import seaborn as sns"
   ]
  },
  {
   "cell_type": "markdown",
   "id": "a7ead15e",
   "metadata": {},
   "source": [
    "So far we've only used our new Keras powers for toy regression problems. We'll move to classification next... but with 3 classes!\n",
    "\n",
    "This example will use `seaborn`'s penguins dataset (a worthy successor to the connonical iris dataset.)\n",
    "\n",
    "We'll build a model to identify a penguin's species from its other features. In the process we'll dust off our Python skills with a quick run through a basic model building workflow."
   ]
  },
  {
   "cell_type": "code",
   "execution_count": 31,
   "id": "5028ea3e",
   "metadata": {},
   "outputs": [
    {
     "name": "stdout",
     "output_type": "stream",
     "text": [
      "(344, 7)\n"
     ]
    },
    {
     "data": {
      "text/html": [
       "<div>\n",
       "<style scoped>\n",
       "    .dataframe tbody tr th:only-of-type {\n",
       "        vertical-align: middle;\n",
       "    }\n",
       "\n",
       "    .dataframe tbody tr th {\n",
       "        vertical-align: top;\n",
       "    }\n",
       "\n",
       "    .dataframe thead th {\n",
       "        text-align: right;\n",
       "    }\n",
       "</style>\n",
       "<table border=\"1\" class=\"dataframe\">\n",
       "  <thead>\n",
       "    <tr style=\"text-align: right;\">\n",
       "      <th></th>\n",
       "      <th>species</th>\n",
       "      <th>island</th>\n",
       "      <th>bill_length_mm</th>\n",
       "      <th>bill_depth_mm</th>\n",
       "      <th>flipper_length_mm</th>\n",
       "      <th>body_mass_g</th>\n",
       "      <th>sex</th>\n",
       "    </tr>\n",
       "  </thead>\n",
       "  <tbody>\n",
       "    <tr>\n",
       "      <th>0</th>\n",
       "      <td>Adelie</td>\n",
       "      <td>Torgersen</td>\n",
       "      <td>39.1</td>\n",
       "      <td>18.7</td>\n",
       "      <td>181.0</td>\n",
       "      <td>3750.0</td>\n",
       "      <td>Male</td>\n",
       "    </tr>\n",
       "    <tr>\n",
       "      <th>1</th>\n",
       "      <td>Adelie</td>\n",
       "      <td>Torgersen</td>\n",
       "      <td>39.5</td>\n",
       "      <td>17.4</td>\n",
       "      <td>186.0</td>\n",
       "      <td>3800.0</td>\n",
       "      <td>Female</td>\n",
       "    </tr>\n",
       "    <tr>\n",
       "      <th>2</th>\n",
       "      <td>Adelie</td>\n",
       "      <td>Torgersen</td>\n",
       "      <td>40.3</td>\n",
       "      <td>18.0</td>\n",
       "      <td>195.0</td>\n",
       "      <td>3250.0</td>\n",
       "      <td>Female</td>\n",
       "    </tr>\n",
       "    <tr>\n",
       "      <th>3</th>\n",
       "      <td>Adelie</td>\n",
       "      <td>Torgersen</td>\n",
       "      <td>NaN</td>\n",
       "      <td>NaN</td>\n",
       "      <td>NaN</td>\n",
       "      <td>NaN</td>\n",
       "      <td>NaN</td>\n",
       "    </tr>\n",
       "    <tr>\n",
       "      <th>4</th>\n",
       "      <td>Adelie</td>\n",
       "      <td>Torgersen</td>\n",
       "      <td>36.7</td>\n",
       "      <td>19.3</td>\n",
       "      <td>193.0</td>\n",
       "      <td>3450.0</td>\n",
       "      <td>Female</td>\n",
       "    </tr>\n",
       "  </tbody>\n",
       "</table>\n",
       "</div>"
      ],
      "text/plain": [
       "  species     island  bill_length_mm  bill_depth_mm  flipper_length_mm  \\\n",
       "0  Adelie  Torgersen            39.1           18.7              181.0   \n",
       "1  Adelie  Torgersen            39.5           17.4              186.0   \n",
       "2  Adelie  Torgersen            40.3           18.0              195.0   \n",
       "3  Adelie  Torgersen             NaN            NaN                NaN   \n",
       "4  Adelie  Torgersen            36.7           19.3              193.0   \n",
       "\n",
       "   body_mass_g     sex  \n",
       "0       3750.0    Male  \n",
       "1       3800.0  Female  \n",
       "2       3250.0  Female  \n",
       "3          NaN     NaN  \n",
       "4       3450.0  Female  "
      ]
     },
     "execution_count": 31,
     "metadata": {},
     "output_type": "execute_result"
    }
   ],
   "source": [
    "# Bring on the penguins!\n",
    "# penguins = sns.load_dataset('penguins')\n",
    "penguins = pd.read_csv('data/penguins.csv')\n",
    "print(penguins.shape)\n",
    "penguins.head()"
   ]
  },
  {
   "cell_type": "markdown",
   "id": "be392717",
   "metadata": {},
   "source": [
    "We have 3 species of penguins living across 3 different islands. There are measurements of bill length, bill depth, flipper length, and body mass. We also have categorcial variable for each penguin's sex giving us a total of 7 features.\n",
    "\n",
    "Here's a plot that tries to show too much at once. But you can ignore the marker shapes and sizes. The bill and flipper length alone ($x$ and $y$ axes) seem too already provide a fair amount of information about the species (color)."
   ]
  },
  {
   "cell_type": "code",
   "execution_count": 32,
   "id": "c310f0c1",
   "metadata": {},
   "outputs": [
    {
     "data": {
      "image/png": "[encoded data removed]",
      "text/plain": [
       "<Figure size 516.125x432 with 1 Axes>"
      ]
     },
     "metadata": {
      "needs_background": "light"
     },
     "output_type": "display_data"
    }
   ],
   "source": [
    "# Plot penguins with too much info\n",
    "sns.relplot(data=penguins, x='flipper_length_mm', y='bill_length_mm',\n",
    "            hue='species', style='sex', size='body_mass_g', height=6);\n",
    "plt.title('Penguins!', fontdict={'color': 'teal', 'size': 20, 'weight': 'bold', 'family': 'serif'});"
   ]
  },
  {
   "cell_type": "markdown",
   "id": "4926e396",
   "metadata": {},
   "source": [
    "You may have noticed some pesky `NaN`s when we displayed the beginning of the DataFrame.\\\n",
    "We should investigate further."
   ]
  },
  {
   "cell_type": "markdown",
   "id": "ee584d33",
   "metadata": {},
   "source": [
    "<div class='exercise'> <b>Missingness</div>\n"
   ]
  },
  {
   "cell_type": "code",
   "execution_count": 33,
   "id": "3bd2238f",
   "metadata": {},
   "outputs": [
    {
     "data": {
      "text/plain": [
       "species               0\n",
       "island                0\n",
       "bill_length_mm        2\n",
       "bill_depth_mm         2\n",
       "flipper_length_mm     2\n",
       "body_mass_g           2\n",
       "sex                  11\n",
       "dtype: int64"
      ]
     },
     "execution_count": 33,
     "metadata": {},
     "output_type": "execute_result"
    }
   ],
   "source": [
    "# How many missing values in each column?\n",
    "penguins.isna().sum()"
   ]
  },
  {
   "cell_type": "markdown",
   "id": "657d6fc3",
   "metadata": {},
   "source": [
    "Let's take a look at them first all the rows with missing data."
   ]
  },
  {
   "cell_type": "code",
   "execution_count": 34,
   "id": "fac7966d",
   "metadata": {},
   "outputs": [
    {
     "data": {
      "text/html": [
       "<div>\n",
       "<style scoped>\n",
       "    .dataframe tbody tr th:only-of-type {\n",
       "        vertical-align: middle;\n",
       "    }\n",
       "\n",
       "    .dataframe tbody tr th {\n",
       "        vertical-align: top;\n",
       "    }\n",
       "\n",
       "    .dataframe thead th {\n",
       "        text-align: right;\n",
       "    }\n",
       "</style>\n",
       "<table border=\"1\" class=\"dataframe\">\n",
       "  <thead>\n",
       "    <tr style=\"text-align: right;\">\n",
       "      <th></th>\n",
       "      <th>species</th>\n",
       "      <th>island</th>\n",
       "      <th>bill_length_mm</th>\n",
       "      <th>bill_depth_mm</th>\n",
       "      <th>flipper_length_mm</th>\n",
       "      <th>body_mass_g</th>\n",
       "      <th>sex</th>\n",
       "    </tr>\n",
       "  </thead>\n",
       "  <tbody>\n",
       "    <tr>\n",
       "      <th>3</th>\n",
       "      <td>Adelie</td>\n",
       "      <td>Torgersen</td>\n",
       "      <td>NaN</td>\n",
       "      <td>NaN</td>\n",
       "      <td>NaN</td>\n",
       "      <td>NaN</td>\n",
       "      <td>NaN</td>\n",
       "    </tr>\n",
       "    <tr>\n",
       "      <th>8</th>\n",
       "      <td>Adelie</td>\n",
       "      <td>Torgersen</td>\n",
       "      <td>34.1</td>\n",
       "      <td>18.1</td>\n",
       "      <td>193.0</td>\n",
       "      <td>3475.0</td>\n",
       "      <td>NaN</td>\n",
       "    </tr>\n",
       "    <tr>\n",
       "      <th>9</th>\n",
       "      <td>Adelie</td>\n",
       "      <td>Torgersen</td>\n",
       "      <td>42.0</td>\n",
       "      <td>20.2</td>\n",
       "      <td>190.0</td>\n",
       "      <td>4250.0</td>\n",
       "      <td>NaN</td>\n",
       "    </tr>\n",
       "    <tr>\n",
       "      <th>10</th>\n",
       "      <td>Adelie</td>\n",
       "      <td>Torgersen</td>\n",
       "      <td>37.8</td>\n",
       "      <td>17.1</td>\n",
       "      <td>186.0</td>\n",
       "      <td>3300.0</td>\n",
       "      <td>NaN</td>\n",
       "    </tr>\n",
       "    <tr>\n",
       "      <th>11</th>\n",
       "      <td>Adelie</td>\n",
       "      <td>Torgersen</td>\n",
       "      <td>37.8</td>\n",
       "      <td>17.3</td>\n",
       "      <td>180.0</td>\n",
       "      <td>3700.0</td>\n",
       "      <td>NaN</td>\n",
       "    </tr>\n",
       "    <tr>\n",
       "      <th>47</th>\n",
       "      <td>Adelie</td>\n",
       "      <td>Dream</td>\n",
       "      <td>37.5</td>\n",
       "      <td>18.9</td>\n",
       "      <td>179.0</td>\n",
       "      <td>2975.0</td>\n",
       "      <td>NaN</td>\n",
       "    </tr>\n",
       "    <tr>\n",
       "      <th>246</th>\n",
       "      <td>Gentoo</td>\n",
       "      <td>Biscoe</td>\n",
       "      <td>44.5</td>\n",
       "      <td>14.3</td>\n",
       "      <td>216.0</td>\n",
       "      <td>4100.0</td>\n",
       "      <td>NaN</td>\n",
       "    </tr>\n",
       "    <tr>\n",
       "      <th>286</th>\n",
       "      <td>Gentoo</td>\n",
       "      <td>Biscoe</td>\n",
       "      <td>46.2</td>\n",
       "      <td>14.4</td>\n",
       "      <td>214.0</td>\n",
       "      <td>4650.0</td>\n",
       "      <td>NaN</td>\n",
       "    </tr>\n",
       "    <tr>\n",
       "      <th>324</th>\n",
       "      <td>Gentoo</td>\n",
       "      <td>Biscoe</td>\n",
       "      <td>47.3</td>\n",
       "      <td>13.8</td>\n",
       "      <td>216.0</td>\n",
       "      <td>4725.0</td>\n",
       "      <td>NaN</td>\n",
       "    </tr>\n",
       "    <tr>\n",
       "      <th>336</th>\n",
       "      <td>Gentoo</td>\n",
       "      <td>Biscoe</td>\n",
       "      <td>44.5</td>\n",
       "      <td>15.7</td>\n",
       "      <td>217.0</td>\n",
       "      <td>4875.0</td>\n",
       "      <td>NaN</td>\n",
       "    </tr>\n",
       "    <tr>\n",
       "      <th>339</th>\n",
       "      <td>Gentoo</td>\n",
       "      <td>Biscoe</td>\n",
       "      <td>NaN</td>\n",
       "      <td>NaN</td>\n",
       "      <td>NaN</td>\n",
       "      <td>NaN</td>\n",
       "      <td>NaN</td>\n",
       "    </tr>\n",
       "  </tbody>\n",
       "</table>\n",
       "</div>"
      ],
      "text/plain": [
       "    species     island  bill_length_mm  bill_depth_mm  flipper_length_mm  \\\n",
       "3    Adelie  Torgersen             NaN            NaN                NaN   \n",
       "8    Adelie  Torgersen            34.1           18.1              193.0   \n",
       "9    Adelie  Torgersen            42.0           20.2              190.0   \n",
       "10   Adelie  Torgersen            37.8           17.1              186.0   \n",
       "11   Adelie  Torgersen            37.8           17.3              180.0   \n",
       "47   Adelie      Dream            37.5           18.9              179.0   \n",
       "246  Gentoo     Biscoe            44.5           14.3              216.0   \n",
       "286  Gentoo     Biscoe            46.2           14.4              214.0   \n",
       "324  Gentoo     Biscoe            47.3           13.8              216.0   \n",
       "336  Gentoo     Biscoe            44.5           15.7              217.0   \n",
       "339  Gentoo     Biscoe             NaN            NaN                NaN   \n",
       "\n",
       "     body_mass_g  sex  \n",
       "3            NaN  NaN  \n",
       "8         3475.0  NaN  \n",
       "9         4250.0  NaN  \n",
       "10        3300.0  NaN  \n",
       "11        3700.0  NaN  \n",
       "47        2975.0  NaN  \n",
       "246       4100.0  NaN  \n",
       "286       4650.0  NaN  \n",
       "324       4725.0  NaN  \n",
       "336       4875.0  NaN  \n",
       "339          NaN  NaN  "
      ]
     },
     "execution_count": 34,
     "metadata": {},
     "output_type": "execute_result"
    }
   ],
   "source": [
    "# Rows with missingness\n",
    "penguins[penguins.isna().any(axis=1)]"
   ]
  },
  {
   "cell_type": "markdown",
   "id": "5ad2abb9",
   "metadata": {},
   "source": [
    "Yikes! There are two observations where all predictors except `species` and `island` are missing.\\\n",
    "These rows won't be of any use to us. We see that dropping rows missing `body_mass_g` will take care of most our missingness."
   ]
  },
  {
   "cell_type": "code",
   "execution_count": 35,
   "id": "4e03ec5a",
   "metadata": {},
   "outputs": [
    {
     "data": {
      "text/plain": [
       "species              0\n",
       "island               0\n",
       "bill_length_mm       0\n",
       "bill_depth_mm        0\n",
       "flipper_length_mm    0\n",
       "body_mass_g          0\n",
       "sex                  9\n",
       "dtype: int64"
      ]
     },
     "execution_count": 35,
     "metadata": {},
     "output_type": "execute_result"
    }
   ],
   "source": [
    "# Drop the bad rows identified above\n",
    "penguins = penguins.dropna(subset=['body_mass_g'])\n",
    "# Check state of missingness after dropping\n",
    "penguins.isna().sum()"
   ]
  },
  {
   "cell_type": "markdown",
   "id": "a7bb239e",
   "metadata": {},
   "source": [
    "It looks like there are 9 rows where `sex` is missing. We can try to **impute** these values.\\\n",
    "But first, take a look at our DataFrame again."
   ]
  },
  {
   "cell_type": "code",
   "execution_count": 36,
   "id": "0cecfce2",
   "metadata": {},
   "outputs": [
    {
     "data": {
      "text/html": [
       "<div>\n",
       "<style scoped>\n",
       "    .dataframe tbody tr th:only-of-type {\n",
       "        vertical-align: middle;\n",
       "    }\n",
       "\n",
       "    .dataframe tbody tr th {\n",
       "        vertical-align: top;\n",
       "    }\n",
       "\n",
       "    .dataframe thead th {\n",
       "        text-align: right;\n",
       "    }\n",
       "</style>\n",
       "<table border=\"1\" class=\"dataframe\">\n",
       "  <thead>\n",
       "    <tr style=\"text-align: right;\">\n",
       "      <th></th>\n",
       "      <th>species</th>\n",
       "      <th>island</th>\n",
       "      <th>bill_length_mm</th>\n",
       "      <th>bill_depth_mm</th>\n",
       "      <th>flipper_length_mm</th>\n",
       "      <th>body_mass_g</th>\n",
       "      <th>sex</th>\n",
       "    </tr>\n",
       "  </thead>\n",
       "  <tbody>\n",
       "    <tr>\n",
       "      <th>0</th>\n",
       "      <td>Adelie</td>\n",
       "      <td>Torgersen</td>\n",
       "      <td>39.1</td>\n",
       "      <td>18.7</td>\n",
       "      <td>181.0</td>\n",
       "      <td>3750.0</td>\n",
       "      <td>Male</td>\n",
       "    </tr>\n",
       "    <tr>\n",
       "      <th>1</th>\n",
       "      <td>Adelie</td>\n",
       "      <td>Torgersen</td>\n",
       "      <td>39.5</td>\n",
       "      <td>17.4</td>\n",
       "      <td>186.0</td>\n",
       "      <td>3800.0</td>\n",
       "      <td>Female</td>\n",
       "    </tr>\n",
       "    <tr>\n",
       "      <th>2</th>\n",
       "      <td>Adelie</td>\n",
       "      <td>Torgersen</td>\n",
       "      <td>40.3</td>\n",
       "      <td>18.0</td>\n",
       "      <td>195.0</td>\n",
       "      <td>3250.0</td>\n",
       "      <td>Female</td>\n",
       "    </tr>\n",
       "    <tr>\n",
       "      <th>4</th>\n",
       "      <td>Adelie</td>\n",
       "      <td>Torgersen</td>\n",
       "      <td>36.7</td>\n",
       "      <td>19.3</td>\n",
       "      <td>193.0</td>\n",
       "      <td>3450.0</td>\n",
       "      <td>Female</td>\n",
       "    </tr>\n",
       "    <tr>\n",
       "      <th>5</th>\n",
       "      <td>Adelie</td>\n",
       "      <td>Torgersen</td>\n",
       "      <td>39.3</td>\n",
       "      <td>20.6</td>\n",
       "      <td>190.0</td>\n",
       "      <td>3650.0</td>\n",
       "      <td>Male</td>\n",
       "    </tr>\n",
       "  </tbody>\n",
       "</table>\n",
       "</div>"
      ],
      "text/plain": [
       "  species     island  bill_length_mm  bill_depth_mm  flipper_length_mm  \\\n",
       "0  Adelie  Torgersen            39.1           18.7              181.0   \n",
       "1  Adelie  Torgersen            39.5           17.4              186.0   \n",
       "2  Adelie  Torgersen            40.3           18.0              195.0   \n",
       "4  Adelie  Torgersen            36.7           19.3              193.0   \n",
       "5  Adelie  Torgersen            39.3           20.6              190.0   \n",
       "\n",
       "   body_mass_g     sex  \n",
       "0       3750.0    Male  \n",
       "1       3800.0  Female  \n",
       "2       3250.0  Female  \n",
       "4       3450.0  Female  \n",
       "5       3650.0    Male  "
      ]
     },
     "execution_count": 36,
     "metadata": {},
     "output_type": "execute_result"
    }
   ],
   "source": [
    "penguins.head()"
   ]
  },
  {
   "cell_type": "markdown",
   "id": "d55fd9ac",
   "metadata": {},
   "source": [
    "Notice how the indices go from `2` to `4`. What happened to `3`?\\\n",
    "It was one of the rows we dropped! This issue with the indices can cause headaches later on (think `loc`/`iloc` distinction).\n",
    "But we can make things good as new using the `reset_index` method. Just be sure to set `drop=True`, otherwise the old indices will be added to the DataFrame as a new column."
   ]
  },
  {
   "cell_type": "code",
   "execution_count": 37,
   "id": "20239e0e",
   "metadata": {},
   "outputs": [
    {
     "data": {
      "text/html": [
       "<div>\n",
       "<style scoped>\n",
       "    .dataframe tbody tr th:only-of-type {\n",
       "        vertical-align: middle;\n",
       "    }\n",
       "\n",
       "    .dataframe tbody tr th {\n",
       "        vertical-align: top;\n",
       "    }\n",
       "\n",
       "    .dataframe thead th {\n",
       "        text-align: right;\n",
       "    }\n",
       "</style>\n",
       "<table border=\"1\" class=\"dataframe\">\n",
       "  <thead>\n",
       "    <tr style=\"text-align: right;\">\n",
       "      <th></th>\n",
       "      <th>species</th>\n",
       "      <th>island</th>\n",
       "      <th>bill_length_mm</th>\n",
       "      <th>bill_depth_mm</th>\n",
       "      <th>flipper_length_mm</th>\n",
       "      <th>body_mass_g</th>\n",
       "      <th>sex</th>\n",
       "    </tr>\n",
       "  </thead>\n",
       "  <tbody>\n",
       "    <tr>\n",
       "      <th>0</th>\n",
       "      <td>Adelie</td>\n",
       "      <td>Torgersen</td>\n",
       "      <td>39.1</td>\n",
       "      <td>18.7</td>\n",
       "      <td>181.0</td>\n",
       "      <td>3750.0</td>\n",
       "      <td>Male</td>\n",
       "    </tr>\n",
       "    <tr>\n",
       "      <th>1</th>\n",
       "      <td>Adelie</td>\n",
       "      <td>Torgersen</td>\n",
       "      <td>39.5</td>\n",
       "      <td>17.4</td>\n",
       "      <td>186.0</td>\n",
       "      <td>3800.0</td>\n",
       "      <td>Female</td>\n",
       "    </tr>\n",
       "    <tr>\n",
       "      <th>2</th>\n",
       "      <td>Adelie</td>\n",
       "      <td>Torgersen</td>\n",
       "      <td>40.3</td>\n",
       "      <td>18.0</td>\n",
       "      <td>195.0</td>\n",
       "      <td>3250.0</td>\n",
       "      <td>Female</td>\n",
       "    </tr>\n",
       "    <tr>\n",
       "      <th>3</th>\n",
       "      <td>Adelie</td>\n",
       "      <td>Torgersen</td>\n",
       "      <td>36.7</td>\n",
       "      <td>19.3</td>\n",
       "      <td>193.0</td>\n",
       "      <td>3450.0</td>\n",
       "      <td>Female</td>\n",
       "    </tr>\n",
       "    <tr>\n",
       "      <th>4</th>\n",
       "      <td>Adelie</td>\n",
       "      <td>Torgersen</td>\n",
       "      <td>39.3</td>\n",
       "      <td>20.6</td>\n",
       "      <td>190.0</td>\n",
       "      <td>3650.0</td>\n",
       "      <td>Male</td>\n",
       "    </tr>\n",
       "  </tbody>\n",
       "</table>\n",
       "</div>"
      ],
      "text/plain": [
       "  species     island  bill_length_mm  bill_depth_mm  flipper_length_mm  \\\n",
       "0  Adelie  Torgersen            39.1           18.7              181.0   \n",
       "1  Adelie  Torgersen            39.5           17.4              186.0   \n",
       "2  Adelie  Torgersen            40.3           18.0              195.0   \n",
       "3  Adelie  Torgersen            36.7           19.3              193.0   \n",
       "4  Adelie  Torgersen            39.3           20.6              190.0   \n",
       "\n",
       "   body_mass_g     sex  \n",
       "0       3750.0    Male  \n",
       "1       3800.0  Female  \n",
       "2       3250.0  Female  \n",
       "3       3450.0  Female  \n",
       "4       3650.0    Male  "
      ]
     },
     "execution_count": 37,
     "metadata": {},
     "output_type": "execute_result"
    }
   ],
   "source": [
    "# Reset index\n",
    "penguins = penguins.reset_index(drop=True)\n",
    "penguins.head()"
   ]
  },
  {
   "cell_type": "markdown",
   "id": "7b15992c",
   "metadata": {},
   "source": [
    "Much better!\\\n",
    "Now, on to imputing the missing `sex` values. Let's take a look at the `value_counts`."
   ]
  },
  {
   "cell_type": "code",
   "execution_count": 38,
   "id": "86f20681",
   "metadata": {},
   "outputs": [
    {
     "data": {
      "text/plain": [
       "Male      168\n",
       "Female    165\n",
       "Name: sex, dtype: int64"
      ]
     },
     "execution_count": 38,
     "metadata": {},
     "output_type": "execute_result"
    }
   ],
   "source": [
    "# Counts of each unique value in the dataset\n",
    "penguins.sex.value_counts()"
   ]
  },
  {
   "cell_type": "markdown",
   "id": "97a9d599",
   "metadata": {},
   "source": [
    "It's almost an even split. We'll impute the **mode** because it's a quick fix."
   ]
  },
  {
   "cell_type": "code",
   "execution_count": 39,
   "id": "17d64d83",
   "metadata": {},
   "outputs": [
    {
     "data": {
      "text/plain": [
       "'Male'"
      ]
     },
     "execution_count": 39,
     "metadata": {},
     "output_type": "execute_result"
    }
   ],
   "source": [
    "# The mode here should match the value with the most counts above\n",
    "sex_mode = penguins.sex.mode()[0]\n",
    "sex_mode"
   ]
  },
  {
   "cell_type": "markdown",
   "id": "5fc1ae5f",
   "metadata": {},
   "source": [
    "Finally, we use `fillna` to replace the remaining `NaN`s with the `sex_mode` and confirm that there are no more missing values in the DataFrame."
   ]
  },
  {
   "cell_type": "code",
   "execution_count": 40,
   "id": "8e1c83af",
   "metadata": {},
   "outputs": [
    {
     "data": {
      "text/plain": [
       "species              0\n",
       "island               0\n",
       "bill_length_mm       0\n",
       "bill_depth_mm        0\n",
       "flipper_length_mm    0\n",
       "body_mass_g          0\n",
       "sex                  0\n",
       "dtype: int64"
      ]
     },
     "execution_count": 40,
     "metadata": {},
     "output_type": "execute_result"
    }
   ],
   "source": [
    "# Replace missing values with most common value (i.e, mode)\n",
    "penguins = penguins.fillna(sex_mode)\n",
    "penguins.isna().sum()"
   ]
  },
  {
   "cell_type": "markdown",
   "id": "eca25594",
   "metadata": {},
   "source": [
    "**Q:** Imputing the mode here was very easy, but does this approach make you a bit nervous? Why? Is there some other way we could have imputed this values?"
   ]
  },
  {
   "cell_type": "markdown",
   "id": "4e891537",
   "metadata": {},
   "source": [
    "<div class='exercise'> <b>Preprocessing</div>\n",
    "\n",
    "We can't just throw this DataFrame at a neural network as it is. There's some work we need to do first."
   ]
  },
  {
   "cell_type": "markdown",
   "id": "b4a615fe",
   "metadata": {},
   "source": [
    "**Separate predictors from response variable**"
   ]
  },
  {
   "cell_type": "code",
   "execution_count": 41,
   "id": "e6bc4b15",
   "metadata": {},
   "outputs": [],
   "source": [
    "# Isolate response from predictors\n",
    "response = 'species'\n",
    "X = penguins.drop(response, axis=1)\n",
    "y = penguins[response]"
   ]
  },
  {
   "cell_type": "markdown",
   "id": "71633e8e",
   "metadata": {},
   "source": [
    "**Encode Categorical Predictor Variables**"
   ]
  },
  {
   "cell_type": "code",
   "execution_count": 42,
   "id": "118e7089",
   "metadata": {},
   "outputs": [
    {
     "data": {
      "text/plain": [
       "island                object\n",
       "bill_length_mm       float64\n",
       "bill_depth_mm        float64\n",
       "flipper_length_mm    float64\n",
       "body_mass_g          float64\n",
       "sex                   object\n",
       "dtype: object"
      ]
     },
     "execution_count": 42,
     "metadata": {},
     "output_type": "execute_result"
    }
   ],
   "source": [
    "# Check the predictor data types\n",
    "X.dtypes"
   ]
  },
  {
   "cell_type": "markdown",
   "id": "3dde7013",
   "metadata": {},
   "source": [
    "Both `island` and `sex` are categotical. We can use `pd.get_dummies` to one-hot-encode them (don't forget to `drop_first`!)."
   ]
  },
  {
   "cell_type": "code",
   "execution_count": 43,
   "id": "0a93454f",
   "metadata": {},
   "outputs": [],
   "source": [
    "# Identify the categorical columns\n",
    "cat_cols = ['island', 'sex']"
   ]
  },
  {
   "cell_type": "code",
   "execution_count": 44,
   "id": "b4aec654",
   "metadata": {},
   "outputs": [
    {
     "data": {
      "text/html": [
       "<div>\n",
       "<style scoped>\n",
       "    .dataframe tbody tr th:only-of-type {\n",
       "        vertical-align: middle;\n",
       "    }\n",
       "\n",
       "    .dataframe tbody tr th {\n",
       "        vertical-align: top;\n",
       "    }\n",
       "\n",
       "    .dataframe thead th {\n",
       "        text-align: right;\n",
       "    }\n",
       "</style>\n",
       "<table border=\"1\" class=\"dataframe\">\n",
       "  <thead>\n",
       "    <tr style=\"text-align: right;\">\n",
       "      <th></th>\n",
       "      <th>bill_length_mm</th>\n",
       "      <th>bill_depth_mm</th>\n",
       "      <th>flipper_length_mm</th>\n",
       "      <th>body_mass_g</th>\n",
       "      <th>island_Dream</th>\n",
       "      <th>island_Torgersen</th>\n",
       "      <th>sex_Male</th>\n",
       "    </tr>\n",
       "  </thead>\n",
       "  <tbody>\n",
       "    <tr>\n",
       "      <th>0</th>\n",
       "      <td>39.1</td>\n",
       "      <td>18.7</td>\n",
       "      <td>181.0</td>\n",
       "      <td>3750.0</td>\n",
       "      <td>0</td>\n",
       "      <td>1</td>\n",
       "      <td>1</td>\n",
       "    </tr>\n",
       "    <tr>\n",
       "      <th>1</th>\n",
       "      <td>39.5</td>\n",
       "      <td>17.4</td>\n",
       "      <td>186.0</td>\n",
       "      <td>3800.0</td>\n",
       "      <td>0</td>\n",
       "      <td>1</td>\n",
       "      <td>0</td>\n",
       "    </tr>\n",
       "    <tr>\n",
       "      <th>2</th>\n",
       "      <td>40.3</td>\n",
       "      <td>18.0</td>\n",
       "      <td>195.0</td>\n",
       "      <td>3250.0</td>\n",
       "      <td>0</td>\n",
       "      <td>1</td>\n",
       "      <td>0</td>\n",
       "    </tr>\n",
       "    <tr>\n",
       "      <th>3</th>\n",
       "      <td>36.7</td>\n",
       "      <td>19.3</td>\n",
       "      <td>193.0</td>\n",
       "      <td>3450.0</td>\n",
       "      <td>0</td>\n",
       "      <td>1</td>\n",
       "      <td>0</td>\n",
       "    </tr>\n",
       "    <tr>\n",
       "      <th>4</th>\n",
       "      <td>39.3</td>\n",
       "      <td>20.6</td>\n",
       "      <td>190.0</td>\n",
       "      <td>3650.0</td>\n",
       "      <td>0</td>\n",
       "      <td>1</td>\n",
       "      <td>1</td>\n",
       "    </tr>\n",
       "  </tbody>\n",
       "</table>\n",
       "</div>"
      ],
      "text/plain": [
       "   bill_length_mm  bill_depth_mm  flipper_length_mm  body_mass_g  \\\n",
       "0            39.1           18.7              181.0       3750.0   \n",
       "1            39.5           17.4              186.0       3800.0   \n",
       "2            40.3           18.0              195.0       3250.0   \n",
       "3            36.7           19.3              193.0       3450.0   \n",
       "4            39.3           20.6              190.0       3650.0   \n",
       "\n",
       "   island_Dream  island_Torgersen  sex_Male  \n",
       "0             0                 1         1  \n",
       "1             0                 1         0  \n",
       "2             0                 1         0  \n",
       "3             0                 1         0  \n",
       "4             0                 1         1  "
      ]
     },
     "execution_count": 44,
     "metadata": {},
     "output_type": "execute_result"
    }
   ],
   "source": [
    "# one-hot encode the categorical columns\n",
    "X_design = pd.get_dummies(X, columns=cat_cols, drop_first=True)\n",
    "X_design.head(5)"
   ]
  },
  {
   "cell_type": "markdown",
   "id": "85372733",
   "metadata": {},
   "source": [
    "From the remaining columns we can infer that the 'reference' values for our categorical variables are `island = 'Biscoe'`, and `sex = 'Female'`."
   ]
  },
  {
   "cell_type": "markdown",
   "id": "a475d5f6",
   "metadata": {},
   "source": [
    "**Feature Scaling**\n",
    "\n",
    "We should take a closer look at the range of values our predictors take on."
   ]
  },
  {
   "cell_type": "code",
   "execution_count": 45,
   "id": "f293e693",
   "metadata": {},
   "outputs": [
    {
     "data": {
      "text/html": [
       "<div>\n",
       "<style scoped>\n",
       "    .dataframe tbody tr th:only-of-type {\n",
       "        vertical-align: middle;\n",
       "    }\n",
       "\n",
       "    .dataframe tbody tr th {\n",
       "        vertical-align: top;\n",
       "    }\n",
       "\n",
       "    .dataframe thead th {\n",
       "        text-align: right;\n",
       "    }\n",
       "</style>\n",
       "<table border=\"1\" class=\"dataframe\">\n",
       "  <thead>\n",
       "    <tr style=\"text-align: right;\">\n",
       "      <th></th>\n",
       "      <th>bill_length_mm</th>\n",
       "      <th>bill_depth_mm</th>\n",
       "      <th>flipper_length_mm</th>\n",
       "      <th>body_mass_g</th>\n",
       "      <th>island_Dream</th>\n",
       "      <th>island_Torgersen</th>\n",
       "      <th>sex_Male</th>\n",
       "    </tr>\n",
       "  </thead>\n",
       "  <tbody>\n",
       "    <tr>\n",
       "      <th>count</th>\n",
       "      <td>342.000000</td>\n",
       "      <td>342.000000</td>\n",
       "      <td>342.000000</td>\n",
       "      <td>342.000000</td>\n",
       "      <td>342.000000</td>\n",
       "      <td>342.000000</td>\n",
       "      <td>342.000000</td>\n",
       "    </tr>\n",
       "    <tr>\n",
       "      <th>mean</th>\n",
       "      <td>43.921930</td>\n",
       "      <td>17.151170</td>\n",
       "      <td>200.915205</td>\n",
       "      <td>4201.754386</td>\n",
       "      <td>0.362573</td>\n",
       "      <td>0.149123</td>\n",
       "      <td>0.517544</td>\n",
       "    </tr>\n",
       "    <tr>\n",
       "      <th>std</th>\n",
       "      <td>5.459584</td>\n",
       "      <td>1.974793</td>\n",
       "      <td>14.061714</td>\n",
       "      <td>801.954536</td>\n",
       "      <td>0.481447</td>\n",
       "      <td>0.356731</td>\n",
       "      <td>0.500424</td>\n",
       "    </tr>\n",
       "    <tr>\n",
       "      <th>min</th>\n",
       "      <td>32.100000</td>\n",
       "      <td>13.100000</td>\n",
       "      <td>172.000000</td>\n",
       "      <td>2700.000000</td>\n",
       "      <td>0.000000</td>\n",
       "      <td>0.000000</td>\n",
       "      <td>0.000000</td>\n",
       "    </tr>\n",
       "    <tr>\n",
       "      <th>25%</th>\n",
       "      <td>39.225000</td>\n",
       "      <td>15.600000</td>\n",
       "      <td>190.000000</td>\n",
       "      <td>3550.000000</td>\n",
       "      <td>0.000000</td>\n",
       "      <td>0.000000</td>\n",
       "      <td>0.000000</td>\n",
       "    </tr>\n",
       "    <tr>\n",
       "      <th>50%</th>\n",
       "      <td>44.450000</td>\n",
       "      <td>17.300000</td>\n",
       "      <td>197.000000</td>\n",
       "      <td>4050.000000</td>\n",
       "      <td>0.000000</td>\n",
       "      <td>0.000000</td>\n",
       "      <td>1.000000</td>\n",
       "    </tr>\n",
       "    <tr>\n",
       "      <th>75%</th>\n",
       "      <td>48.500000</td>\n",
       "      <td>18.700000</td>\n",
       "      <td>213.000000</td>\n",
       "      <td>4750.000000</td>\n",
       "      <td>1.000000</td>\n",
       "      <td>0.000000</td>\n",
       "      <td>1.000000</td>\n",
       "    </tr>\n",
       "    <tr>\n",
       "      <th>max</th>\n",
       "      <td>59.600000</td>\n",
       "      <td>21.500000</td>\n",
       "      <td>231.000000</td>\n",
       "      <td>6300.000000</td>\n",
       "      <td>1.000000</td>\n",
       "      <td>1.000000</td>\n",
       "      <td>1.000000</td>\n",
       "    </tr>\n",
       "  </tbody>\n",
       "</table>\n",
       "</div>"
      ],
      "text/plain": [
       "       bill_length_mm  bill_depth_mm  flipper_length_mm  body_mass_g  \\\n",
       "count      342.000000     342.000000         342.000000   342.000000   \n",
       "mean        43.921930      17.151170         200.915205  4201.754386   \n",
       "std          5.459584       1.974793          14.061714   801.954536   \n",
       "min         32.100000      13.100000         172.000000  2700.000000   \n",
       "25%         39.225000      15.600000         190.000000  3550.000000   \n",
       "50%         44.450000      17.300000         197.000000  4050.000000   \n",
       "75%         48.500000      18.700000         213.000000  4750.000000   \n",
       "max         59.600000      21.500000         231.000000  6300.000000   \n",
       "\n",
       "       island_Dream  island_Torgersen    sex_Male  \n",
       "count    342.000000        342.000000  342.000000  \n",
       "mean       0.362573          0.149123    0.517544  \n",
       "std        0.481447          0.356731    0.500424  \n",
       "min        0.000000          0.000000    0.000000  \n",
       "25%        0.000000          0.000000    0.000000  \n",
       "50%        0.000000          0.000000    1.000000  \n",
       "75%        1.000000          0.000000    1.000000  \n",
       "max        1.000000          1.000000    1.000000  "
      ]
     },
     "execution_count": 45,
     "metadata": {},
     "output_type": "execute_result"
    }
   ],
   "source": [
    "#  Summary stats of predictors\n",
    "X_design.describe()"
   ]
  },
  {
   "cell_type": "markdown",
   "id": "efd77fde",
   "metadata": {},
   "source": [
    "Our features are not on the same scale. Just compare the min/max of `bill_depth_mm` and `body_mass_g` for example.\\\n",
    "This can slow down neural network training for reasons we'll see in an upcoming lecture.\n",
    "\n",
    "Let's make use of `sklearn`'s `StandardScaler` to standardize the data, centering each predictor at 0 and setting their standard deviations to 1."
   ]
  },
  {
   "cell_type": "code",
   "execution_count": 46,
   "id": "49fa761c",
   "metadata": {},
   "outputs": [],
   "source": [
    "from sklearn.preprocessing import StandardScaler"
   ]
  },
  {
   "cell_type": "code",
   "execution_count": 47,
   "id": "03155921",
   "metadata": {},
   "outputs": [],
   "source": [
    "# Remember the column names for later; we'll lose them when we scale\n",
    "X_cols = X_design.columns\n",
    "# Saving the scaler object in a variable allows us to reverse the transformation later\n",
    "scaler = StandardScaler()\n",
    "X_scaled = scaler.fit_transform(X_design)"
   ]
  },
  {
   "cell_type": "code",
   "execution_count": 48,
   "id": "292239ad",
   "metadata": {},
   "outputs": [
    {
     "data": {
      "text/plain": [
       "(numpy.ndarray, (342, 7))"
      ]
     },
     "execution_count": 48,
     "metadata": {},
     "output_type": "execute_result"
    }
   ],
   "source": [
    "# The scaler was passed a pandas DataFrame but returns a numpy array\n",
    "type(X_scaled), X_scaled.shape"
   ]
  },
  {
   "cell_type": "code",
   "execution_count": 49,
   "id": "09252916",
   "metadata": {},
   "outputs": [
    {
     "data": {
      "text/html": [
       "<div>\n",
       "<style scoped>\n",
       "    .dataframe tbody tr th:only-of-type {\n",
       "        vertical-align: middle;\n",
       "    }\n",
       "\n",
       "    .dataframe tbody tr th {\n",
       "        vertical-align: top;\n",
       "    }\n",
       "\n",
       "    .dataframe thead th {\n",
       "        text-align: right;\n",
       "    }\n",
       "</style>\n",
       "<table border=\"1\" class=\"dataframe\">\n",
       "  <thead>\n",
       "    <tr style=\"text-align: right;\">\n",
       "      <th></th>\n",
       "      <th>bill_length_mm</th>\n",
       "      <th>bill_depth_mm</th>\n",
       "      <th>flipper_length_mm</th>\n",
       "      <th>body_mass_g</th>\n",
       "      <th>island_Dream</th>\n",
       "      <th>island_Torgersen</th>\n",
       "      <th>sex_Male</th>\n",
       "    </tr>\n",
       "  </thead>\n",
       "  <tbody>\n",
       "    <tr>\n",
       "      <th>0</th>\n",
       "      <td>-0.884499</td>\n",
       "      <td>0.785449</td>\n",
       "      <td>-1.418347</td>\n",
       "      <td>-0.564142</td>\n",
       "      <td>-0.754193</td>\n",
       "      <td>2.388699</td>\n",
       "      <td>0.965507</td>\n",
       "    </tr>\n",
       "    <tr>\n",
       "      <th>1</th>\n",
       "      <td>-0.811126</td>\n",
       "      <td>0.126188</td>\n",
       "      <td>-1.062250</td>\n",
       "      <td>-0.501703</td>\n",
       "      <td>-0.754193</td>\n",
       "      <td>2.388699</td>\n",
       "      <td>-1.035725</td>\n",
       "    </tr>\n",
       "    <tr>\n",
       "      <th>2</th>\n",
       "      <td>-0.664380</td>\n",
       "      <td>0.430462</td>\n",
       "      <td>-0.421277</td>\n",
       "      <td>-1.188532</td>\n",
       "      <td>-0.754193</td>\n",
       "      <td>2.388699</td>\n",
       "      <td>-1.035725</td>\n",
       "    </tr>\n",
       "  </tbody>\n",
       "</table>\n",
       "</div>"
      ],
      "text/plain": [
       "   bill_length_mm  bill_depth_mm  flipper_length_mm  body_mass_g  \\\n",
       "0       -0.884499       0.785449          -1.418347    -0.564142   \n",
       "1       -0.811126       0.126188          -1.062250    -0.501703   \n",
       "2       -0.664380       0.430462          -0.421277    -1.188532   \n",
       "\n",
       "   island_Dream  island_Torgersen  sex_Male  \n",
       "0     -0.754193          2.388699  0.965507  \n",
       "1     -0.754193          2.388699 -1.035725  \n",
       "2     -0.754193          2.388699 -1.035725  "
      ]
     },
     "execution_count": 49,
     "metadata": {},
     "output_type": "execute_result"
    }
   ],
   "source": [
    "# We can always add the column names back later if we need to\n",
    "pd.DataFrame(X_scaled, columns=X_cols).head(3)"
   ]
  },
  {
   "cell_type": "markdown",
   "id": "1634e82a",
   "metadata": {},
   "source": [
    "**Encoding the Response Variable**"
   ]
  },
  {
   "cell_type": "code",
   "execution_count": 50,
   "id": "45864c51",
   "metadata": {},
   "outputs": [
    {
     "data": {
      "text/plain": [
       "0      Adelie\n",
       "1      Adelie\n",
       "2      Adelie\n",
       "3      Adelie\n",
       "4      Adelie\n",
       "        ...  \n",
       "337    Gentoo\n",
       "338    Gentoo\n",
       "339    Gentoo\n",
       "340    Gentoo\n",
       "341    Gentoo\n",
       "Name: species, Length: 342, dtype: object"
      ]
     },
     "execution_count": 50,
     "metadata": {},
     "output_type": "execute_result"
    }
   ],
   "source": [
    "# Take a look at our response\n",
    "y"
   ]
  },
  {
   "cell_type": "markdown",
   "id": "81488feb",
   "metadata": {},
   "source": [
    "Our response variable is still a `string`. We need to turn it into some numerical representation for our neural network.\\\n",
    "We could to this ourselves with a few list comprehensions, but `sklearn`'s `LabelEncoder` makes this very easy."
   ]
  },
  {
   "cell_type": "code",
   "execution_count": 51,
   "id": "28c1c684",
   "metadata": {},
   "outputs": [],
   "source": [
    "from sklearn.preprocessing import LabelEncoder"
   ]
  },
  {
   "cell_type": "code",
   "execution_count": 52,
   "id": "e94e5801",
   "metadata": {},
   "outputs": [
    {
     "data": {
      "text/plain": [
       "array([0, 0, 0, 0, 0, 0, 0, 0, 0, 0, 0, 0, 0, 0, 0, 0, 0, 0, 0, 0, 0, 0,\n",
       "       0, 0, 0, 0, 0, 0, 0, 0, 0, 0, 0, 0, 0, 0, 0, 0, 0, 0, 0, 0, 0, 0,\n",
       "       0, 0, 0, 0, 0, 0, 0, 0, 0, 0, 0, 0, 0, 0, 0, 0, 0, 0, 0, 0, 0, 0,\n",
       "       0, 0, 0, 0, 0, 0, 0, 0, 0, 0, 0, 0, 0, 0, 0, 0, 0, 0, 0, 0, 0, 0,\n",
       "       0, 0, 0, 0, 0, 0, 0, 0, 0, 0, 0, 0, 0, 0, 0, 0, 0, 0, 0, 0, 0, 0,\n",
       "       0, 0, 0, 0, 0, 0, 0, 0, 0, 0, 0, 0, 0, 0, 0, 0, 0, 0, 0, 0, 0, 0,\n",
       "       0, 0, 0, 0, 0, 0, 0, 0, 0, 0, 0, 0, 0, 0, 0, 0, 0, 0, 0, 1, 1, 1,\n",
       "       1, 1, 1, 1, 1, 1, 1, 1, 1, 1, 1, 1, 1, 1, 1, 1, 1, 1, 1, 1, 1, 1,\n",
       "       1, 1, 1, 1, 1, 1, 1, 1, 1, 1, 1, 1, 1, 1, 1, 1, 1, 1, 1, 1, 1, 1,\n",
       "       1, 1, 1, 1, 1, 1, 1, 1, 1, 1, 1, 1, 1, 1, 1, 1, 1, 1, 1, 1, 1, 2,\n",
       "       2, 2, 2, 2, 2, 2, 2, 2, 2, 2, 2, 2, 2, 2, 2, 2, 2, 2, 2, 2, 2, 2,\n",
       "       2, 2, 2, 2, 2, 2, 2, 2, 2, 2, 2, 2, 2, 2, 2, 2, 2, 2, 2, 2, 2, 2,\n",
       "       2, 2, 2, 2, 2, 2, 2, 2, 2, 2, 2, 2, 2, 2, 2, 2, 2, 2, 2, 2, 2, 2,\n",
       "       2, 2, 2, 2, 2, 2, 2, 2, 2, 2, 2, 2, 2, 2, 2, 2, 2, 2, 2, 2, 2, 2,\n",
       "       2, 2, 2, 2, 2, 2, 2, 2, 2, 2, 2, 2, 2, 2, 2, 2, 2, 2, 2, 2, 2, 2,\n",
       "       2, 2, 2, 2, 2, 2, 2, 2, 2, 2, 2, 2])"
      ]
     },
     "execution_count": 52,
     "metadata": {},
     "output_type": "execute_result"
    }
   ],
   "source": [
    "# Encode string labels as integers\n",
    "# LabelEncoder uses the familar fit/transform methods we saw with StandardScaler\n",
    "labenc = LabelEncoder().fit(y)\n",
    "y_enc = labenc.transform(y)\n",
    "y_enc"
   ]
  },
  {
   "cell_type": "code",
   "execution_count": 53,
   "id": "cc04a9d4",
   "metadata": {},
   "outputs": [
    {
     "data": {
      "text/plain": [
       "array(['Adelie', 'Chinstrap', 'Gentoo'], dtype=object)"
      ]
     },
     "execution_count": 53,
     "metadata": {},
     "output_type": "execute_result"
    }
   ],
   "source": [
    "# We can recover the class labels from the encoder object later\n",
    "labenc.classes_"
   ]
  },
  {
   "cell_type": "markdown",
   "id": "30ea8b83",
   "metadata": {},
   "source": [
    "This gets us part of the way there. But the penguin species are **categorical** not **ordinal**. Keeping the labels as integers implies that species `2` is twice as \"different\" from species `1` as it is from species `0`. We want to perform a conversion here similar to the one-hot encoding above, except will will not 'drop' one of the values. This is where Keras's `to_categorical` utility function comes in."
   ]
  },
  {
   "cell_type": "code",
   "execution_count": 54,
   "id": "284e7335",
   "metadata": {},
   "outputs": [],
   "source": [
    "from tensorflow.keras.utils import to_categorical"
   ]
  },
  {
   "cell_type": "code",
   "execution_count": 55,
   "id": "b2acfa7c",
   "metadata": {},
   "outputs": [
    {
     "data": {
      "text/plain": [
       "array([[1., 0., 0.],\n",
       "       [1., 0., 0.],\n",
       "       [1., 0., 0.],\n",
       "       ...,\n",
       "       [0., 0., 1.],\n",
       "       [0., 0., 1.],\n",
       "       [0., 0., 1.]], dtype=float32)"
      ]
     },
     "execution_count": 55,
     "metadata": {},
     "output_type": "execute_result"
    }
   ],
   "source": [
    "y_cat = to_categorical(y_enc)\n",
    "y_cat"
   ]
  },
  {
   "cell_type": "markdown",
   "id": "92ebdfab",
   "metadata": {},
   "source": [
    "Perfect!"
   ]
  },
  {
   "cell_type": "markdown",
   "id": "4c2b03d2",
   "metadata": {},
   "source": [
    "**Q:** If this is what our array of response variables looks like, what will this mean for the output layer of our neural network?"
   ]
  },
  {
   "cell_type": "markdown",
   "id": "a94ffc7e",
   "metadata": {},
   "source": [
    "**Train-test Split**"
   ]
  },
  {
   "cell_type": "code",
   "execution_count": 56,
   "id": "65b72544",
   "metadata": {},
   "outputs": [],
   "source": [
    "from sklearn.model_selection import train_test_split"
   ]
  },
  {
   "cell_type": "markdown",
   "id": "1dd7e569",
   "metadata": {},
   "source": [
    "You may be familiar with using `train_test_split` to split the `X` and `y` arrays themselves. But here we will use it to create a set of train and test *indices*.\n",
    "\n",
    "We'll see later that being able to determine which rows in the original `X` and `y` ended up in train or test will be helpful.\n",
    "\n",
    "**Q:** But couldn't we just sample integers to get random indices? Why use `train_test_split`?\n",
    "\n",
    "**A:** Because `train_test_split` allows for **stratified** splitting!\n",
    "\n",
    "Here we use a trick to stratify on both the `sex` and `island` variables by concatinating their values together. This gives us a total of 6 possible values (2 sexs x 3 islands). By stratifying on this column we help ensure that each of the 6 possible sex/island combinations is equally represented in both train and test."
   ]
  },
  {
   "cell_type": "code",
   "execution_count": 57,
   "id": "888933df",
   "metadata": {},
   "outputs": [
    {
     "data": {
      "text/plain": [
       "0        MaleTorgersen\n",
       "1      FemaleTorgersen\n",
       "2      FemaleTorgersen\n",
       "3      FemaleTorgersen\n",
       "4        MaleTorgersen\n",
       "            ...       \n",
       "337       FemaleBiscoe\n",
       "338       FemaleBiscoe\n",
       "339         MaleBiscoe\n",
       "340       FemaleBiscoe\n",
       "341         MaleBiscoe\n",
       "Length: 342, dtype: object"
      ]
     },
     "execution_count": 57,
     "metadata": {},
     "output_type": "execute_result"
    }
   ],
   "source": [
    "# Concatenate categorical columns; use this for stratified splitting\n",
    "strat_col = penguins['sex'].astype('str') + penguins['island'].astype('str')\n",
    "strat_col"
   ]
  },
  {
   "cell_type": "code",
   "execution_count": 58,
   "id": "da760e9e",
   "metadata": {},
   "outputs": [],
   "source": [
    "# Create train/test indices\n",
    "train_idx, test_idx = train_test_split(np.arange(X_scaled.shape[0]),\n",
    "                                                  test_size=0.5,\n",
    "                                                  random_state=109,\n",
    "                                                  stratify=strat_col)"
   ]
  },
  {
   "cell_type": "code",
   "execution_count": 59,
   "id": "26f680ae",
   "metadata": {},
   "outputs": [],
   "source": [
    "# Index into X_scaled and y_cat to create the train and test sets\n",
    "X_train = X_scaled[train_idx]\n",
    "y_train = y_cat[train_idx]\n",
    "X_test = X_scaled[test_idx]\n",
    "y_test = y_cat[test_idx]"
   ]
  },
  {
   "cell_type": "code",
   "execution_count": 60,
   "id": "0ce1d63c",
   "metadata": {},
   "outputs": [
    {
     "data": {
      "text/plain": [
       "((171, 7), (171, 3), (171, 7), (171, 3))"
      ]
     },
     "execution_count": 60,
     "metadata": {},
     "output_type": "execute_result"
    }
   ],
   "source": [
    "# Sanity check on the resulting shapes\n",
    "X_train.shape, y_train.shape, X_test.shape, y_test.shape"
   ]
  },
  {
   "cell_type": "markdown",
   "id": "78e2a811",
   "metadata": {},
   "source": [
    "**Validation Split**"
   ]
  },
  {
   "cell_type": "markdown",
   "id": "2bb97376",
   "metadata": {},
   "source": [
    "Here is where those indices we saved come in handy.\\\n",
    "We also want to also ensure equal representation across train and validation."
   ]
  },
  {
   "cell_type": "code",
   "execution_count": 61,
   "id": "412ccfee",
   "metadata": {},
   "outputs": [
    {
     "data": {
      "text/plain": [
       "(171,)"
      ]
     },
     "execution_count": 61,
     "metadata": {},
     "output_type": "execute_result"
    }
   ],
   "source": [
    "# Subset original stratify column using saved train split indices\n",
    "strat_col2 = strat_col.iloc[train_idx]\n",
    "strat_col2.shape"
   ]
  },
  {
   "cell_type": "code",
   "execution_count": 62,
   "id": "bb407f8f",
   "metadata": {},
   "outputs": [],
   "source": [
    "# Create train and validation splits from original train split\n",
    "X_train, X_val, y_train, y_val = train_test_split(X_train, y_train, \n",
    "                                                    test_size=0.5,\n",
    "                                                    random_state=109,\n",
    "                                                    stratify=strat_col2)"
   ]
  },
  {
   "cell_type": "markdown",
   "id": "4aabd886",
   "metadata": {},
   "source": [
    "<div class=\"alert alert-success\">\n",
    "    <strong>🏋🏻‍♂️ TEAM ACTIVITY:</strong> Classify Those Penguins!</div>  "
   ]
  },
  {
   "cell_type": "code",
   "execution_count": 63,
   "id": "565c9e5d",
   "metadata": {},
   "outputs": [],
   "source": [
    "from tensorflow.keras.losses import categorical_crossentropy\n",
    "from tensorflow.keras.metrics import Accuracy, AUC\n",
    "from tensorflow.keras.activations import softmax"
   ]
  },
  {
   "cell_type": "markdown",
   "id": "54b25716",
   "metadata": {},
   "source": [
    "**Build**\n",
    "\n",
    "Construct your NN penguin classifier. You can make use of your `build_NN` function from earlier. What output activation should you use?\n",
    "\n",
    "**Hint:** try to programaticlaly determin the input and output shape from your data rather than hard coding those values."
   ]
  },
  {
   "cell_type": "code",
   "execution_count": 64,
   "id": "c3c55e1e",
   "metadata": {},
   "outputs": [],
   "source": [
    "# Construct your NN and print the model summary\n",
    "# your code here"
   ]
  },
  {
   "cell_type": "code",
   "execution_count": 65,
   "id": "4ce682dd",
   "metadata": {},
   "outputs": [
    {
     "name": "stdout",
     "output_type": "stream",
     "text": [
      "Model: \"penguins\"\n",
      "_________________________________________________________________\n",
      " Layer (type)                Output Shape              Param #   \n",
      "=================================================================\n",
      " dense_7 (Dense)             (None, 8)                 64        \n",
      "                                                                 \n",
      " dense_8 (Dense)             (None, 16)                144       \n",
      "                                                                 \n",
      " dense_9 (Dense)             (None, 3)                 51        \n",
      "                                                                 \n",
      " dense_10 (Dense)            (None, 3)                 12        \n",
      "                                                                 \n",
      "=================================================================\n",
      "Total params: 271\n",
      "Trainable params: 271\n",
      "Non-trainable params: 0\n",
      "_________________________________________________________________\n"
     ]
    }
   ],
   "source": [
    "# %load solutions/sol2_1.py\n",
    "model = build_NN(name='penguins',\n",
    "                 input_shape=(X_train.shape[1],),\n",
    "                 hidden_dims=[8,16,3],\n",
    "                 hidden_act='relu',\n",
    "                 out_dim=y_train.shape[1],\n",
    "                 out_act='softmax')\n",
    "model.summary()"
   ]
  },
  {
   "cell_type": "markdown",
   "id": "d74b149d",
   "metadata": {},
   "source": [
    "**Compile**\n",
    "\n",
    "Again, let's use `SGD` as our optimizer. You can fiddle with the `learning_rate`.\\\n",
    "What loss and metric(s) do you think are appropriate?"
   ]
  },
  {
   "cell_type": "code",
   "execution_count": 66,
   "id": "fad2ff51",
   "metadata": {},
   "outputs": [],
   "source": [
    "# Compile\n",
    "# youre code here\n",
    "model.compile(optimizer=SGD(learning_rate=1e-1),\n",
    "              loss='categorical_crossentropy',\n",
    "              metrics=['acc', 'AUC'])"
   ]
  },
  {
   "cell_type": "markdown",
   "id": "345e6cad",
   "metadata": {},
   "source": [
    "**Fit**\n",
    "\n",
    "Fit your model and store the results in a variable called `history`.\\\n",
    "Feel free to play with `batch_size` and `epochs`.\n",
    "\n",
    "Don't forget to include the `validation_data`!"
   ]
  },
  {
   "cell_type": "code",
   "execution_count": 67,
   "id": "4a1a4c5f",
   "metadata": {
    "scrolled": true
   },
   "outputs": [
    {
     "name": "stdout",
     "output_type": "stream",
     "text": [
      "Epoch 1/50\n",
      "2/2 [==============================] - 1s 235ms/step - loss: 0.9706 - acc: 0.5765 - auc: 0.7583 - val_loss: 0.8847 - val_acc: 0.7674 - val_auc: 0.8688\n",
      "Epoch 2/50\n",
      "2/2 [==============================] - 0s 82ms/step - loss: 0.8803 - acc: 0.6824 - auc: 0.8246 - val_loss: 0.7838 - val_acc: 0.7907 - val_auc: 0.9042\n",
      "Epoch 3/50\n",
      "2/2 [==============================] - 0s 81ms/step - loss: 0.8005 - acc: 0.6941 - auc: 0.8526 - val_loss: 0.7291 - val_acc: 0.8256 - val_auc: 0.9338\n",
      "Epoch 4/50\n",
      "2/2 [==============================] - 0s 93ms/step - loss: 0.7486 - acc: 0.7529 - auc: 0.8957 - val_loss: 0.6760 - val_acc: 0.8372 - val_auc: 0.9456\n",
      "Epoch 5/50\n",
      "2/2 [==============================] - 0s 53ms/step - loss: 0.7049 - acc: 0.7529 - auc: 0.9118 - val_loss: 0.6318 - val_acc: 0.8372 - val_auc: 0.9528\n",
      "Epoch 6/50\n",
      "2/2 [==============================] - 0s 38ms/step - loss: 0.6712 - acc: 0.7529 - auc: 0.9187 - val_loss: 0.5994 - val_acc: 0.8372 - val_auc: 0.9634\n",
      "Epoch 7/50\n",
      "2/2 [==============================] - 0s 53ms/step - loss: 0.6434 - acc: 0.7529 - auc: 0.9325 - val_loss: 0.5717 - val_acc: 0.8372 - val_auc: 0.9696\n",
      "Epoch 8/50\n",
      "2/2 [==============================] - 0s 55ms/step - loss: 0.6181 - acc: 0.7529 - auc: 0.9439 - val_loss: 0.5456 - val_acc: 0.8372 - val_auc: 0.9737\n",
      "Epoch 9/50\n",
      "2/2 [==============================] - 0s 36ms/step - loss: 0.5956 - acc: 0.7647 - auc: 0.9489 - val_loss: 0.5160 - val_acc: 0.8372 - val_auc: 0.9757\n",
      "Epoch 10/50\n",
      "2/2 [==============================] - 0s 36ms/step - loss: 0.5729 - acc: 0.7647 - auc: 0.9506 - val_loss: 0.4985 - val_acc: 0.8372 - val_auc: 0.9783\n",
      "Epoch 11/50\n",
      "2/2 [==============================] - 0s 33ms/step - loss: 0.5565 - acc: 0.7647 - auc: 0.9566 - val_loss: 0.4837 - val_acc: 0.8372 - val_auc: 0.9804\n",
      "Epoch 12/50\n",
      "2/2 [==============================] - 0s 35ms/step - loss: 0.5395 - acc: 0.7647 - auc: 0.9609 - val_loss: 0.4614 - val_acc: 0.8372 - val_auc: 0.9816\n",
      "Epoch 13/50\n",
      "2/2 [==============================] - 0s 33ms/step - loss: 0.5217 - acc: 0.7647 - auc: 0.9646 - val_loss: 0.4427 - val_acc: 0.8372 - val_auc: 0.9827\n",
      "Epoch 14/50\n",
      "2/2 [==============================] - 0s 31ms/step - loss: 0.5055 - acc: 0.7647 - auc: 0.9656 - val_loss: 0.4285 - val_acc: 0.8372 - val_auc: 0.9835\n",
      "Epoch 15/50\n",
      "2/2 [==============================] - 0s 32ms/step - loss: 0.4902 - acc: 0.7647 - auc: 0.9678 - val_loss: 0.4116 - val_acc: 0.8372 - val_auc: 0.9841\n",
      "Epoch 16/50\n",
      "2/2 [==============================] - 0s 36ms/step - loss: 0.4743 - acc: 0.7647 - auc: 0.9692 - val_loss: 0.3894 - val_acc: 0.8372 - val_auc: 0.9847\n",
      "Epoch 17/50\n",
      "2/2 [==============================] - 0s 32ms/step - loss: 0.4564 - acc: 0.7647 - auc: 0.9695 - val_loss: 0.3737 - val_acc: 0.8372 - val_auc: 0.9854\n",
      "Epoch 18/50\n",
      "2/2 [==============================] - 0s 33ms/step - loss: 0.4418 - acc: 0.7647 - auc: 0.9701 - val_loss: 0.3609 - val_acc: 0.8372 - val_auc: 0.9861\n",
      "Epoch 19/50\n",
      "2/2 [==============================] - 0s 33ms/step - loss: 0.4261 - acc: 0.7647 - auc: 0.9717 - val_loss: 0.3445 - val_acc: 0.8372 - val_auc: 0.9863\n",
      "Epoch 20/50\n",
      "2/2 [==============================] - 0s 36ms/step - loss: 0.4110 - acc: 0.7647 - auc: 0.9719 - val_loss: 0.3323 - val_acc: 0.8372 - val_auc: 0.9866\n",
      "Epoch 21/50\n",
      "2/2 [==============================] - 0s 33ms/step - loss: 0.3952 - acc: 0.7647 - auc: 0.9723 - val_loss: 0.3167 - val_acc: 0.8372 - val_auc: 0.9867\n",
      "Epoch 22/50\n",
      "2/2 [==============================] - 0s 35ms/step - loss: 0.3803 - acc: 0.7647 - auc: 0.9723 - val_loss: 0.3064 - val_acc: 0.8372 - val_auc: 0.9867\n",
      "Epoch 23/50\n",
      "2/2 [==============================] - 0s 32ms/step - loss: 0.3647 - acc: 0.7647 - auc: 0.9723 - val_loss: 0.2927 - val_acc: 0.8372 - val_auc: 0.9867\n",
      "Epoch 24/50\n",
      "2/2 [==============================] - 0s 34ms/step - loss: 0.3491 - acc: 0.7647 - auc: 0.9723 - val_loss: 0.2813 - val_acc: 0.8372 - val_auc: 0.9867\n",
      "Epoch 25/50\n",
      "2/2 [==============================] - 0s 32ms/step - loss: 0.3318 - acc: 0.7647 - auc: 0.9723 - val_loss: 0.2677 - val_acc: 0.8372 - val_auc: 0.9867\n",
      "Epoch 26/50\n",
      "2/2 [==============================] - 0s 37ms/step - loss: 0.3165 - acc: 0.7882 - auc: 0.9728 - val_loss: 0.2544 - val_acc: 0.8488 - val_auc: 0.9869\n",
      "Epoch 27/50\n",
      "2/2 [==============================] - 0s 31ms/step - loss: 0.3018 - acc: 0.7882 - auc: 0.9733 - val_loss: 0.2422 - val_acc: 0.8605 - val_auc: 0.9870\n",
      "Epoch 28/50\n",
      "2/2 [==============================] - 0s 32ms/step - loss: 0.2880 - acc: 0.8235 - auc: 0.9762 - val_loss: 0.2320 - val_acc: 0.8605 - val_auc: 0.9874\n",
      "Epoch 29/50\n",
      "2/2 [==============================] - 0s 34ms/step - loss: 0.2757 - acc: 0.8588 - auc: 0.9795 - val_loss: 0.2223 - val_acc: 0.8605 - val_auc: 0.9884\n",
      "Epoch 30/50\n",
      "2/2 [==============================] - 0s 32ms/step - loss: 0.2631 - acc: 0.8706 - auc: 0.9847 - val_loss: 0.2128 - val_acc: 0.8837 - val_auc: 0.9900\n",
      "Epoch 31/50\n",
      "2/2 [==============================] - 0s 30ms/step - loss: 0.2489 - acc: 0.9176 - auc: 0.9929 - val_loss: 0.2036 - val_acc: 0.9070 - val_auc: 0.9915\n",
      "Epoch 32/50\n",
      "2/2 [==============================] - 0s 35ms/step - loss: 0.2377 - acc: 0.9294 - auc: 0.9961 - val_loss: 0.1950 - val_acc: 0.9070 - val_auc: 0.9918\n",
      "Epoch 33/50\n",
      "2/2 [==============================] - 0s 32ms/step - loss: 0.2276 - acc: 0.9412 - auc: 0.9967 - val_loss: 0.1867 - val_acc: 0.9186 - val_auc: 0.9936\n",
      "Epoch 34/50\n",
      "2/2 [==============================] - 0s 35ms/step - loss: 0.2182 - acc: 0.9529 - auc: 0.9987 - val_loss: 0.1795 - val_acc: 0.9535 - val_auc: 0.9948\n",
      "Epoch 35/50\n",
      "2/2 [==============================] - 0s 34ms/step - loss: 0.2098 - acc: 0.9882 - auc: 0.9997 - val_loss: 0.1733 - val_acc: 0.9535 - val_auc: 0.9953\n",
      "Epoch 36/50\n",
      "2/2 [==============================] - 0s 33ms/step - loss: 0.2024 - acc: 0.9882 - auc: 0.9999 - val_loss: 0.1673 - val_acc: 0.9651 - val_auc: 0.9956\n",
      "Epoch 37/50\n",
      "2/2 [==============================] - 0s 32ms/step - loss: 0.1953 - acc: 1.0000 - auc: 1.0000 - val_loss: 0.1612 - val_acc: 0.9651 - val_auc: 0.9961\n",
      "Epoch 38/50\n",
      "2/2 [==============================] - 0s 37ms/step - loss: 0.1883 - acc: 1.0000 - auc: 1.0000 - val_loss: 0.1555 - val_acc: 0.9651 - val_auc: 0.9964\n",
      "Epoch 39/50\n",
      "2/2 [==============================] - 0s 30ms/step - loss: 0.1822 - acc: 1.0000 - auc: 1.0000 - val_loss: 0.1513 - val_acc: 0.9651 - val_auc: 0.9965\n",
      "Epoch 40/50\n",
      "2/2 [==============================] - 0s 33ms/step - loss: 0.1766 - acc: 1.0000 - auc: 1.0000 - val_loss: 0.1463 - val_acc: 0.9651 - val_auc: 0.9968\n",
      "Epoch 41/50\n",
      "2/2 [==============================] - 0s 33ms/step - loss: 0.1705 - acc: 1.0000 - auc: 1.0000 - val_loss: 0.1413 - val_acc: 0.9651 - val_auc: 0.9976\n",
      "Epoch 42/50\n",
      "2/2 [==============================] - 0s 35ms/step - loss: 0.1651 - acc: 1.0000 - auc: 1.0000 - val_loss: 0.1375 - val_acc: 0.9651 - val_auc: 0.9980\n",
      "Epoch 43/50\n",
      "2/2 [==============================] - 0s 34ms/step - loss: 0.1603 - acc: 1.0000 - auc: 1.0000 - val_loss: 0.1335 - val_acc: 0.9651 - val_auc: 0.9987\n",
      "Epoch 44/50\n",
      "2/2 [==============================] - 0s 32ms/step - loss: 0.1556 - acc: 1.0000 - auc: 1.0000 - val_loss: 0.1300 - val_acc: 0.9651 - val_auc: 0.9990\n",
      "Epoch 45/50\n",
      "2/2 [==============================] - 0s 33ms/step - loss: 0.1514 - acc: 1.0000 - auc: 1.0000 - val_loss: 0.1267 - val_acc: 0.9651 - val_auc: 0.9991\n",
      "Epoch 46/50\n",
      "2/2 [==============================] - 0s 31ms/step - loss: 0.1470 - acc: 1.0000 - auc: 1.0000 - val_loss: 0.1226 - val_acc: 0.9651 - val_auc: 0.9994\n",
      "Epoch 47/50\n",
      "2/2 [==============================] - 0s 31ms/step - loss: 0.1425 - acc: 1.0000 - auc: 1.0000 - val_loss: 0.1196 - val_acc: 0.9651 - val_auc: 0.9994\n",
      "Epoch 48/50\n",
      "2/2 [==============================] - 0s 34ms/step - loss: 0.1385 - acc: 1.0000 - auc: 1.0000 - val_loss: 0.1163 - val_acc: 0.9651 - val_auc: 0.9994\n",
      "Epoch 49/50\n",
      "2/2 [==============================] - 0s 35ms/step - loss: 0.1348 - acc: 1.0000 - auc: 1.0000 - val_loss: 0.1134 - val_acc: 0.9651 - val_auc: 0.9994\n",
      "Epoch 50/50\n",
      "2/2 [==============================] - 0s 33ms/step - loss: 0.1313 - acc: 1.0000 - auc: 1.0000 - val_loss: 0.1104 - val_acc: 0.9651 - val_auc: 0.9994\n"
     ]
    }
   ],
   "source": [
    "# Fit\n",
    "# your code here\n",
    "history = model.fit(X_train,\n",
    "                    y_train,\n",
    "                    validation_data=(X_val, y_val),\n",
    "                    batch_size=64,\n",
    "                    epochs=50)"
   ]
  },
  {
   "cell_type": "markdown",
   "id": "3b500049",
   "metadata": {},
   "source": [
    "**Plot**\n",
    "\n",
    "Finally, write some code to visualize your loss and metric(s) across the training epochs. You should include both **train** and **validation** scores. This is where a **legend** is very important!\n",
    "\n",
    "**Note:** If you load the solutions they may not run for you unless you have selected the same metric(s)"
   ]
  },
  {
   "cell_type": "code",
   "execution_count": 68,
   "id": "0178107a",
   "metadata": {},
   "outputs": [],
   "source": [
    "# Plot training history\n",
    "# your code here\n"
   ]
  },
  {
   "cell_type": "code",
   "execution_count": 69,
   "id": "146f9559",
   "metadata": {},
   "outputs": [
    {
     "data": {
      "image/png": "[encoded data removed]",
      "text/plain": [
       "<Figure size 1296x360 with 3 Axes>"
      ]
     },
     "metadata": {
      "needs_background": "light"
     },
     "output_type": "display_data"
    }
   ],
   "source": [
    "# %load solutions/sol2_2.py\n",
    "fig, axs = plt.subplots(1,3, figsize=(18,5))\n",
    "                       \n",
    "axs[0].loglog(history.history['loss'],linewidth=4, label = 'Training')\n",
    "axs[0].loglog(history.history['val_loss'],linewidth=4, label = 'Validation', alpha=0.7)\n",
    "axs[0].set_ylabel('Loss')\n",
    "\n",
    "\n",
    "axs[1].plot(history.history['acc'], label='Training')\n",
    "axs[1].plot(history.history['val_acc'], label='Validation')\n",
    "\n",
    "axs[2].plot(history.history['auc'], label='Training')\n",
    "axs[2].plot(history.history['val_auc'], label='Validation')\n",
    "\n",
    "titles = ['Categorical Crossentropy Loss', 'Accuracy', 'AUC']\n",
    "for ax, title in zip(axs, titles):\n",
    "    ax.set_xlabel('Epoch')\n",
    "    ax.set_title(title)\n",
    "    ax.legend()"
   ]
  },
  {
   "cell_type": "markdown",
   "id": "5a3fa6e0",
   "metadata": {},
   "source": [
    "**End of Team Activity**"
   ]
  },
  {
   "cell_type": "markdown",
   "id": "830ea291",
   "metadata": {},
   "source": [
    "<div class='exercise'> <b>Evaluating the Model</div>\n"
   ]
  },
  {
   "cell_type": "markdown",
   "id": "a837f402",
   "metadata": {},
   "source": [
    "First, let's see how well we could to by simply predicting the majority class in the training data for all observations."
   ]
  },
  {
   "cell_type": "code",
   "execution_count": 70,
   "id": "5bd3814e",
   "metadata": {},
   "outputs": [
    {
     "name": "stdout",
     "output_type": "stream",
     "text": [
      "Naive Accuracy: 0.4\n"
     ]
    }
   ],
   "source": [
    "naive_acc = y_train.mean(axis=0).max()\n",
    "print('Naive Accuracy:', naive_acc)"
   ]
  },
  {
   "cell_type": "code",
   "execution_count": 71,
   "id": "bcdf541c",
   "metadata": {},
   "outputs": [
    {
     "name": "stdout",
     "output_type": "stream",
     "text": [
      "3/3 [==============================] - 0s 7ms/step - loss: 0.1281 - acc: 1.0000 - auc: 1.0000\n"
     ]
    },
    {
     "data": {
      "text/plain": [
       "[0.1281479299068451, 1.0, 1.0]"
      ]
     },
     "execution_count": 71,
     "metadata": {},
     "output_type": "execute_result"
    }
   ],
   "source": [
    "# Train\n",
    "model.evaluate(X_train, y_train)"
   ]
  },
  {
   "cell_type": "code",
   "execution_count": 72,
   "id": "b5dd8c18",
   "metadata": {},
   "outputs": [
    {
     "name": "stdout",
     "output_type": "stream",
     "text": [
      "3/3 [==============================] - 0s 27ms/step - loss: 0.1104 - acc: 0.9651 - auc: 0.9994\n"
     ]
    },
    {
     "data": {
      "text/plain": [
       "[0.11039039492607117, 0.9651162624359131, 0.9993915557861328]"
      ]
     },
     "execution_count": 72,
     "metadata": {},
     "output_type": "execute_result"
    }
   ],
   "source": [
    "# Validation\n",
    "model.evaluate(X_val, y_val)"
   ]
  },
  {
   "cell_type": "code",
   "execution_count": 73,
   "id": "e86bf08c",
   "metadata": {},
   "outputs": [
    {
     "name": "stdout",
     "output_type": "stream",
     "text": [
      "6/6 [==============================] - 0s 20ms/step - loss: 0.1212 - acc: 0.9942 - auc: 0.9998\n"
     ]
    },
    {
     "data": {
      "text/plain": [
       "[0.12122223526239395, 0.9941520690917969, 0.9997690916061401]"
      ]
     },
     "execution_count": 73,
     "metadata": {},
     "output_type": "execute_result"
    }
   ],
   "source": [
    "# Test\n",
    "model.evaluate(X_test, y_test)"
   ]
  },
  {
   "cell_type": "markdown",
   "id": "d697acd2",
   "metadata": {},
   "source": [
    "<div class='exercise'> <b>Black Box Interpretation</div>\n"
   ]
  },
  {
   "cell_type": "markdown",
   "id": "39c77c7d",
   "metadata": {},
   "source": [
    "**Proxy Model**"
   ]
  },
  {
   "cell_type": "code",
   "execution_count": 74,
   "id": "7e5c4c56",
   "metadata": {},
   "outputs": [],
   "source": [
    "from sklearn.tree import DecisionTreeClassifier\n",
    "from sklearn.model_selection import cross_validate, GridSearchCV"
   ]
  },
  {
   "cell_type": "code",
   "execution_count": 75,
   "id": "da5cf756",
   "metadata": {},
   "outputs": [],
   "source": [
    "# Create train & test response variables for proxy model\n",
    "y_train_bb = model.predict(X_train).argmax(-1)\n",
    "y_test_bb = model.predict(X_test).argmax(-1)"
   ]
  },
  {
   "cell_type": "code",
   "execution_count": null,
   "id": "a56c36ce",
   "metadata": {},
   "outputs": [],
   "source": []
  },
  {
   "cell_type": "code",
   "execution_count": 76,
   "id": "291b351f",
   "metadata": {},
   "outputs": [
    {
     "name": "stdout",
     "output_type": "stream",
     "text": [
      "Best Score: 1.0\n",
      "Best Params: {'criterion': 'gini', 'max_depth': 3}\n"
     ]
    }
   ],
   "source": [
    "# Use cross-validation to tune proxy's hyperparameters\n",
    "parameters = {'max_depth':range(1,10),\n",
    "              'criterion': ['gini', 'entropy']}\n",
    "\n",
    "clf = DecisionTreeClassifier(random_state=42)\n",
    "grid = GridSearchCV(clf, parameters, cv=5)\n",
    "\n",
    "# fit using same train but NN's predictions as response\n",
    "grid.fit(X_train, y_train_bb)\n",
    "print('Best Score:', grid.best_score_)\n",
    "print('Best Params:', grid.best_params_) "
   ]
  },
  {
   "cell_type": "code",
   "execution_count": 77,
   "id": "77a2d683",
   "metadata": {},
   "outputs": [
    {
     "name": "stdout",
     "output_type": "stream",
     "text": [
      "Black Box Test Score: 0.9941520467836257\n",
      "Proxy Model Test Score: 0.9707602339181286\n"
     ]
    }
   ],
   "source": [
    "# Retrieve best estimator from the grid object\n",
    "proxy = grid.best_estimator_\n",
    "\n",
    "bb_test_score =  sum(y_test_bb == y_test.argmax(-1))/len(y_test_bb)\n",
    "proxy_test_score = proxy.score(X_test, y_test_bb)\n",
    "print('Black Box Test Score:', bb_test_score)\n",
    "print('Proxy Model Test Score:', proxy_test_score)"
   ]
  },
  {
   "cell_type": "markdown",
   "id": "122fcd68",
   "metadata": {},
   "source": [
    "**Feature Importance**"
   ]
  },
  {
   "cell_type": "code",
   "execution_count": 78,
   "id": "7c2b52e0",
   "metadata": {},
   "outputs": [
    {
     "data": {
      "text/plain": [
       "array([0.50810343, 0.        , 0.        , 0.        , 0.42405589,\n",
       "       0.06784068, 0.        ])"
      ]
     },
     "execution_count": 78,
     "metadata": {},
     "output_type": "execute_result"
    }
   ],
   "source": [
    "feature_importances = proxy.feature_importances_\n",
    "feature_importances"
   ]
  },
  {
   "cell_type": "code",
   "execution_count": 79,
   "id": "67181391",
   "metadata": {},
   "outputs": [
    {
     "data": {
      "text/plain": [
       "numpy.ndarray"
      ]
     },
     "execution_count": 79,
     "metadata": {},
     "output_type": "execute_result"
    }
   ],
   "source": [
    "type(feature_importances)"
   ]
  },
  {
   "cell_type": "code",
   "execution_count": 80,
   "id": "7a41f61e",
   "metadata": {},
   "outputs": [],
   "source": [
    "sort_idx = np.argsort(feature_importances)[::-1]"
   ]
  },
  {
   "cell_type": "code",
   "execution_count": 81,
   "id": "440137ab",
   "metadata": {},
   "outputs": [
    {
     "data": {
      "image/png": "[encoded data removed]",
      "text/plain": [
       "<Figure size 432x288 with 1 Axes>"
      ]
     },
     "metadata": {
      "needs_background": "light"
     },
     "output_type": "display_data"
    }
   ],
   "source": [
    "ax = sns.barplot(x=feature_importances[sort_idx], y=X_cols[sort_idx], color='purple', orient='h')\n",
    "for index, val in enumerate(feature_importances[sort_idx]):\n",
    "    ax.text(val/3, index, round(val, 2),color='white', weight='bold', va='center')\n",
    "ax.set_title('NN Feature Importance According to DTree Proxy')\n",
    "sns.despine(right=True)"
   ]
  },
  {
   "cell_type": "markdown",
   "id": "36017838",
   "metadata": {},
   "source": [
    "**Fixing All But One Predictor**\n",
    "\n",
    "We can alo try to see how a predictor affects the NN's output by fixing all the other to some \"reasonable\" values (e.g., mean, mode) and then only varying the predictor of interest.\n",
    "\n",
    "Based on the results above, let's explore how `bill_length_mm` effects the NN's output."
   ]
  },
  {
   "cell_type": "markdown",
   "id": "03295bd6",
   "metadata": {},
   "source": [
    "**Construct 'Average' Observation**"
   ]
  },
  {
   "cell_type": "code",
   "execution_count": 82,
   "id": "837d319f",
   "metadata": {},
   "outputs": [
    {
     "data": {
      "text/plain": [
       "bill_length_mm       float64\n",
       "bill_depth_mm        float64\n",
       "flipper_length_mm    float64\n",
       "body_mass_g          float64\n",
       "island_Dream           uint8\n",
       "island_Torgersen       uint8\n",
       "sex_Male               uint8\n",
       "dtype: object"
      ]
     },
     "execution_count": 82,
     "metadata": {},
     "output_type": "execute_result"
    }
   ],
   "source": [
    "# Review data types\n",
    "X_design.dtypes"
   ]
  },
  {
   "cell_type": "code",
   "execution_count": 83,
   "id": "277c5e94",
   "metadata": {},
   "outputs": [],
   "source": [
    "# Take means for continous\n",
    "means = X_scaled[:,:4].mean(axis=0)\n",
    "\n",
    "# And modes for catgoricals\n",
    "modes = pd.DataFrame(X_scaled[:,4:]).mode().values.reshape(-1)"
   ]
  },
  {
   "cell_type": "code",
   "execution_count": 84,
   "id": "5be066a5",
   "metadata": {},
   "outputs": [
    {
     "data": {
      "text/plain": [
       "((4,), (3,))"
      ]
     },
     "execution_count": 84,
     "metadata": {},
     "output_type": "execute_result"
    }
   ],
   "source": [
    "# Shape Sanity Check\n",
    "means.shape, modes.shape"
   ]
  },
  {
   "cell_type": "code",
   "execution_count": 85,
   "id": "2d5880f3",
   "metadata": {},
   "outputs": [],
   "source": [
    "# Concatenate these two back together\n",
    "avg_obs = np.concatenate([means, modes])"
   ]
  },
  {
   "cell_type": "code",
   "execution_count": 86,
   "id": "53bcf4b0",
   "metadata": {},
   "outputs": [
    {
     "data": {
      "text/html": [
       "<div>\n",
       "<style scoped>\n",
       "    .dataframe tbody tr th:only-of-type {\n",
       "        vertical-align: middle;\n",
       "    }\n",
       "\n",
       "    .dataframe tbody tr th {\n",
       "        vertical-align: top;\n",
       "    }\n",
       "\n",
       "    .dataframe thead th {\n",
       "        text-align: right;\n",
       "    }\n",
       "</style>\n",
       "<table border=\"1\" class=\"dataframe\">\n",
       "  <thead>\n",
       "    <tr style=\"text-align: right;\">\n",
       "      <th></th>\n",
       "      <th>bill_length_mm</th>\n",
       "      <th>bill_depth_mm</th>\n",
       "      <th>flipper_length_mm</th>\n",
       "      <th>body_mass_g</th>\n",
       "      <th>island_Dream</th>\n",
       "      <th>island_Torgersen</th>\n",
       "      <th>sex_Male</th>\n",
       "    </tr>\n",
       "  </thead>\n",
       "  <tbody>\n",
       "    <tr>\n",
       "      <th>0</th>\n",
       "      <td>1.662088e-16</td>\n",
       "      <td>-1.412775e-15</td>\n",
       "      <td>-8.310441e-16</td>\n",
       "      <td>4.155221e-17</td>\n",
       "      <td>-0.754193</td>\n",
       "      <td>-0.418638</td>\n",
       "      <td>0.965507</td>\n",
       "    </tr>\n",
       "  </tbody>\n",
       "</table>\n",
       "</div>"
      ],
      "text/plain": [
       "   bill_length_mm  bill_depth_mm  flipper_length_mm   body_mass_g  \\\n",
       "0    1.662088e-16  -1.412775e-15      -8.310441e-16  4.155221e-17   \n",
       "\n",
       "   island_Dream  island_Torgersen  sex_Male  \n",
       "0     -0.754193         -0.418638  0.965507  "
      ]
     },
     "execution_count": 86,
     "metadata": {},
     "output_type": "execute_result"
    }
   ],
   "source": [
    "# And stick it back in a DataFrame\n",
    "avg_obs = pd.DataFrame(avg_obs).transpose()\n",
    "avg_obs.columns = X_design.columns\n",
    "avg_obs"
   ]
  },
  {
   "cell_type": "code",
   "execution_count": 87,
   "id": "5ae403bf",
   "metadata": {},
   "outputs": [],
   "source": [
    "# Identify column in our array that corresponds to bill length\n",
    "bill_col = np.argmax(X_design.columns == 'bill_length_mm')\n",
    "\n",
    "# Find the min and max bill length stdevs in the data set\n",
    "bill_min_std = np.min(X_scaled[:,bill_col])\n",
    "bill_max_std = np.max(X_scaled[:, bill_col])\n",
    "\n",
    "# Create 100 evenly spaced values within that range\n",
    "bill_lengths = np.linspace(bill_min_std, bill_max_std, 100)\n",
    "\n",
    "# Create 100 duplicates of the average observation\n",
    "avg_df  = pd.concat([avg_obs]*bill_lengths.size,ignore_index=True)\n",
    "\n",
    "# Set the bill length column to then linspace we just created\n",
    "avg_df['bill_length_mm'] = bill_lengths"
   ]
  },
  {
   "cell_type": "markdown",
   "id": "0a54a86f",
   "metadata": {},
   "source": [
    "Notice now that all rows are identical except for `bill_length_mm` which slowly covers the entire range of values observed in the dataset."
   ]
  },
  {
   "cell_type": "code",
   "execution_count": 88,
   "id": "c09c6bd1",
   "metadata": {},
   "outputs": [
    {
     "data": {
      "text/html": [
       "<div>\n",
       "<style scoped>\n",
       "    .dataframe tbody tr th:only-of-type {\n",
       "        vertical-align: middle;\n",
       "    }\n",
       "\n",
       "    .dataframe tbody tr th {\n",
       "        vertical-align: top;\n",
       "    }\n",
       "\n",
       "    .dataframe thead th {\n",
       "        text-align: right;\n",
       "    }\n",
       "</style>\n",
       "<table border=\"1\" class=\"dataframe\">\n",
       "  <thead>\n",
       "    <tr style=\"text-align: right;\">\n",
       "      <th></th>\n",
       "      <th>bill_length_mm</th>\n",
       "      <th>bill_depth_mm</th>\n",
       "      <th>flipper_length_mm</th>\n",
       "      <th>body_mass_g</th>\n",
       "      <th>island_Dream</th>\n",
       "      <th>island_Torgersen</th>\n",
       "      <th>sex_Male</th>\n",
       "    </tr>\n",
       "  </thead>\n",
       "  <tbody>\n",
       "    <tr>\n",
       "      <th>0</th>\n",
       "      <td>-2.168526</td>\n",
       "      <td>-1.412775e-15</td>\n",
       "      <td>-8.310441e-16</td>\n",
       "      <td>4.155221e-17</td>\n",
       "      <td>-0.754193</td>\n",
       "      <td>-0.418638</td>\n",
       "      <td>0.965507</td>\n",
       "    </tr>\n",
       "    <tr>\n",
       "      <th>1</th>\n",
       "      <td>-2.117573</td>\n",
       "      <td>-1.412775e-15</td>\n",
       "      <td>-8.310441e-16</td>\n",
       "      <td>4.155221e-17</td>\n",
       "      <td>-0.754193</td>\n",
       "      <td>-0.418638</td>\n",
       "      <td>0.965507</td>\n",
       "    </tr>\n",
       "    <tr>\n",
       "      <th>2</th>\n",
       "      <td>-2.066619</td>\n",
       "      <td>-1.412775e-15</td>\n",
       "      <td>-8.310441e-16</td>\n",
       "      <td>4.155221e-17</td>\n",
       "      <td>-0.754193</td>\n",
       "      <td>-0.418638</td>\n",
       "      <td>0.965507</td>\n",
       "    </tr>\n",
       "    <tr>\n",
       "      <th>3</th>\n",
       "      <td>-2.015666</td>\n",
       "      <td>-1.412775e-15</td>\n",
       "      <td>-8.310441e-16</td>\n",
       "      <td>4.155221e-17</td>\n",
       "      <td>-0.754193</td>\n",
       "      <td>-0.418638</td>\n",
       "      <td>0.965507</td>\n",
       "    </tr>\n",
       "    <tr>\n",
       "      <th>4</th>\n",
       "      <td>-1.964712</td>\n",
       "      <td>-1.412775e-15</td>\n",
       "      <td>-8.310441e-16</td>\n",
       "      <td>4.155221e-17</td>\n",
       "      <td>-0.754193</td>\n",
       "      <td>-0.418638</td>\n",
       "      <td>0.965507</td>\n",
       "    </tr>\n",
       "  </tbody>\n",
       "</table>\n",
       "</div>"
      ],
      "text/plain": [
       "   bill_length_mm  bill_depth_mm  flipper_length_mm   body_mass_g  \\\n",
       "0       -2.168526  -1.412775e-15      -8.310441e-16  4.155221e-17   \n",
       "1       -2.117573  -1.412775e-15      -8.310441e-16  4.155221e-17   \n",
       "2       -2.066619  -1.412775e-15      -8.310441e-16  4.155221e-17   \n",
       "3       -2.015666  -1.412775e-15      -8.310441e-16  4.155221e-17   \n",
       "4       -1.964712  -1.412775e-15      -8.310441e-16  4.155221e-17   \n",
       "\n",
       "   island_Dream  island_Torgersen  sex_Male  \n",
       "0     -0.754193         -0.418638  0.965507  \n",
       "1     -0.754193         -0.418638  0.965507  \n",
       "2     -0.754193         -0.418638  0.965507  \n",
       "3     -0.754193         -0.418638  0.965507  \n",
       "4     -0.754193         -0.418638  0.965507  "
      ]
     },
     "execution_count": 88,
     "metadata": {},
     "output_type": "execute_result"
    }
   ],
   "source": [
    "avg_df.head()"
   ]
  },
  {
   "cell_type": "markdown",
   "id": "2ecf11ed",
   "metadata": {},
   "source": [
    "**Return Predictor to Original Scale**\n",
    "\n",
    "When we visualize our results we'll want to do so back in the original scale for better interpretability.\n",
    "\n",
    "Here we make use of our scaler object from way back when as it stores the means and standard deviations of the original, unscaled predictors."
   ]
  },
  {
   "cell_type": "code",
   "execution_count": 89,
   "id": "27e40b1e",
   "metadata": {},
   "outputs": [],
   "source": [
    "# Recover the feature of interest on the original scale\n",
    "bill_std = np.sqrt(scaler.var_[bill_col])\n",
    "bill_mean = scaler.mean_[bill_col]\n",
    "bill_lengths_original = (bill_std*bill_lengths)+bill_mean"
   ]
  },
  {
   "cell_type": "markdown",
   "id": "27de9604",
   "metadata": {},
   "source": [
    "We can sanity check out inverse transformation by confirming we recovereed the same min and max bill length from our very first DataFrame!"
   ]
  },
  {
   "cell_type": "code",
   "execution_count": 90,
   "id": "5d928d20",
   "metadata": {},
   "outputs": [
    {
     "data": {
      "text/plain": [
       "(32.1, 32.1)"
      ]
     },
     "execution_count": 90,
     "metadata": {},
     "output_type": "execute_result"
    }
   ],
   "source": [
    "# Min Sanity Check\n",
    "bill_lengths_original.min(), penguins.bill_length_mm.min()"
   ]
  },
  {
   "cell_type": "code",
   "execution_count": 91,
   "id": "4b3c9ce9",
   "metadata": {},
   "outputs": [
    {
     "data": {
      "text/plain": [
       "(59.6, 59.6)"
      ]
     },
     "execution_count": 91,
     "metadata": {},
     "output_type": "execute_result"
    }
   ],
   "source": [
    "# Max Sanity Check\n",
    "bill_lengths_original.max(), penguins.bill_length_mm.max()"
   ]
  },
  {
   "cell_type": "markdown",
   "id": "0d8c4705",
   "metadata": {},
   "source": [
    "Now we are ready to plot an approximation of how `bill_length_mm` affects the NN's predictions."
   ]
  },
  {
   "cell_type": "code",
   "execution_count": 92,
   "id": "1d451e14",
   "metadata": {},
   "outputs": [
    {
     "data": {
      "image/png": "[encoded data removed]",
      "text/plain": [
       "<Figure size 432x288 with 1 Axes>"
      ]
     },
     "metadata": {
      "needs_background": "light"
     },
     "output_type": "display_data"
    }
   ],
   "source": [
    "# Plot predicted class probabilities as a function of bill length (approx)\n",
    "avg_pred = model.predict(avg_df)\n",
    "fig, ax = plt.subplots()\n",
    "for idx, species in enumerate(labenc.classes_): \n",
    "    plt.plot(bill_lengths_original, avg_pred[:,idx], label=species)\n",
    "ax.set_ylabel('predicted probability')\n",
    "ax.set_xlabel('bill length in mm')\n",
    "ax.set_title('NN Predictions varying only bill length, holding all other predictors at mean/mode')\n",
    "\n",
    "ax.legend();"
   ]
  },
  {
   "cell_type": "markdown",
   "id": "c06a0640",
   "metadata": {},
   "source": [
    "If you know your penguins this should be too surprising. Gentoo penguins are the 3rd largest species after the emperor and king penguins (not represented in our dataset).\n",
    "\n",
    "**Q:** Why is this only an *approximation* of how `bill_length_mm` affects the NN's predictions?"
   ]
  },
  {
   "cell_type": "markdown",
   "id": "07a77652",
   "metadata": {},
   "source": [
    "<div class='exercise'> <b>Bagging</div>\n",
    "\n",
    "You'll be using bagging (\"bootstrap aggregating\") in your HW so let's take a minute to review the idea and see how it would work with a Kerass model.\n",
    "    \n",
    "The idea is to similuate multiple datasets by sampling our current one with replacement and fitting a model on this sample. The process is repeated multiple times until we have an *ensemble* of fitted models, all trained on slightly different datasets. \n",
    "    \n",
    "We can then treat the ensemble as a singled 'bagged' model. When it is time to predict, each model in the ensemble makes its own predictions. These predictions can then be *aggregated* across models, for example, by taking the average or through majority voting.\n",
    "    \n",
    "We may also be interested in looking at the distribution of the predictions for a given observation as this may help us quanity our uncertainty in a way in which we could not with a single model's predictions (even if that model outputs a probability!)"
   ]
  },
  {
   "cell_type": "code",
   "execution_count": 99,
   "id": "5a74e1d3",
   "metadata": {},
   "outputs": [],
   "source": [
    "# Set sup parameters for the bagging process\n",
    "learning_rate=1e-1\n",
    "epochs = 50\n",
    "batch_size = 64\n",
    "n_boot = 30\n",
    "bagged_model = []\n",
    "np.random.seed(109)\n",
    "\n",
    "for n in range(n_boot):\n",
    "    # Bootstrap\n",
    "    boot_idx = np.random.choice(X_train.shape[0], size=X_train.shape[0], replace=True)\n",
    "    X_train_boot = X_train[boot_idx]\n",
    "    y_train_boot = y_train[boot_idx]\n",
    "\n",
    "    # Build\n",
    "    boot_model= build_NN(name=f'penguins_{n}',\n",
    "                        input_shape=(X_train_boot.shape[1],),\n",
    "                        hidden_dims=[8,16,32],\n",
    "                        hidden_act='relu',\n",
    "                        out_dim=3,\n",
    "                        out_act='softmax')\n",
    "    # Compile\n",
    "    boot_model.compile(optimizer=SGD(learning_rate=learning_rate),\n",
    "                       loss='categorical_crossentropy',\n",
    "                       metrics=['acc', 'AUC'])\n",
    "\n",
    "    # Fit\n",
    "    boot_model.fit(X_train_boot,\n",
    "                   y_train_boot,\n",
    "                   batch_size=batch_size,\n",
    "                   epochs=epochs,\n",
    "                   verbose=0)\n",
    "    \n",
    "    # Store bootstrapped model's probability predictions\n",
    "    bagged_model.append(boot_model)"
   ]
  },
  {
   "cell_type": "code",
   "execution_count": 101,
   "id": "1fcadf6a",
   "metadata": {},
   "outputs": [
    {
     "name": "stdout",
     "output_type": "stream",
     "text": [
      "3\n"
     ]
    }
   ],
   "source": [
    "# Notice we can programatically recover the shape of a model's output layer\n",
    "m = bagged_model[0]\n",
    "out_dim = m.layers[-1].output_shape[-1]\n",
    "print(out_dim)"
   ]
  },
  {
   "cell_type": "code",
   "execution_count": 102,
   "id": "24250809",
   "metadata": {},
   "outputs": [],
   "source": [
    "def get_bagged_pred(bagged_model, X): \n",
    "    # Number of observations\n",
    "    n_obs = X.shape[0]\n",
    "    # Prediction dimensions (here, number of classes)\n",
    "    pred_dim = bagged_model[0].layers[-1].output_shape[-1]\n",
    "    # Number of models in the bagged ensemble\n",
    "    n_models = len(bagged_model)\n",
    "    # 3D tensor to store predictions from each bootstrapped model\n",
    "    # n_observations x n_classes x n_models\n",
    "    boot_preds = np.zeros((n_obs, pred_dim, n_models))\n",
    "    # Store all predictions in the tensor\n",
    "    for i, model in enumerate(bagged_model):\n",
    "        boot_preds[:,:,i] = model.predict(X)\n",
    "    # Average the predictions across models\n",
    "    bag_pred = boot_preds.mean(axis=-1)\n",
    "    return bag_pred, boot_preds"
   ]
  },
  {
   "cell_type": "code",
   "execution_count": 103,
   "id": "84c63158",
   "metadata": {},
   "outputs": [],
   "source": [
    "# Get aggregated and unaggregated ensemble predictions\n",
    "bag_pred, boot_preds = get_bagged_pred(bagged_model, X_test)"
   ]
  },
  {
   "cell_type": "code",
   "execution_count": 104,
   "id": "5d71813f",
   "metadata": {},
   "outputs": [
    {
     "data": {
      "text/plain": [
       "array([[0.03119588, 0.94683596, 0.02196814],\n",
       "       [0.04053674, 0.93992414, 0.01953912],\n",
       "       [0.04480293, 0.93249318, 0.0227039 ]])"
      ]
     },
     "execution_count": 104,
     "metadata": {},
     "output_type": "execute_result"
    }
   ],
   "source": [
    "# Example of aggregated predictions\n",
    "bag_pred[0:3, ]"
   ]
  },
  {
   "cell_type": "code",
   "execution_count": 105,
   "id": "7f0b1e16",
   "metadata": {},
   "outputs": [
    {
     "data": {
      "text/plain": [
       "(171, 3, 30)"
      ]
     },
     "execution_count": 105,
     "metadata": {},
     "output_type": "execute_result"
    }
   ],
   "source": [
    "# Shape of unaggregated ensemble predictions tensor\n",
    "boot_preds.shape"
   ]
  },
  {
   "cell_type": "code",
   "execution_count": null,
   "id": "cdd916d9",
   "metadata": {},
   "outputs": [],
   "source": []
  },
  {
   "cell_type": "code",
   "execution_count": 106,
   "id": "66d31342",
   "metadata": {},
   "outputs": [
    {
     "name": "stdout",
     "output_type": "stream",
     "text": [
      "Bagged Acc: 0.9941520467836257\n"
     ]
    }
   ],
   "source": [
    "# Calculate bagged accuracy\n",
    "bag_acc = sum(bag_pred.argmax(axis=-1) == y_test.argmax(axis=-1))/bag_pred.shape[0]\n",
    "print('Bagged Acc:', bag_acc)"
   ]
  },
  {
   "cell_type": "markdown",
   "id": "897991df",
   "metadata": {},
   "source": [
    "<div class=\"alert alert-info\">\n",
    "    <strong>🏋🏻‍♂️ Optional Take-home Challenges</strong></div>  "
   ]
  },
  {
   "cell_type": "markdown",
   "id": "eadfb97a",
   "metadata": {},
   "source": [
    "**Bagged NN Custom Python Class**"
   ]
  },
  {
   "cell_type": "markdown",
   "id": "fdceea20",
   "metadata": {},
   "source": [
    "It would be nice if we could interact with our bagged model like any other keras model, passing Create a custom `Bagged_NN` class with its own `build`, `compile`, `fit`, `eval`, and `predict` methods!"
   ]
  },
  {
   "cell_type": "markdown",
   "id": "a4359deb",
   "metadata": {},
   "source": [
    "**Use Bootstraped Predictions To Quantify Uncertainty**\n",
    "\n",
    "In your HW you'll use bootstrapping to quantify uncertainty on predictions of a *binary* variable using Posterior Predictive Ratio (PPR). How might you do something similar with *categorical* bootstrapped predictions like we have here?"
   ]
  },
  {
   "cell_type": "code",
   "execution_count": 107,
   "id": "55be2e90",
   "metadata": {},
   "outputs": [
    {
     "data": {
      "text/plain": [
       "(1.0, 0.7219280948873623, 0.0)"
      ]
     },
     "execution_count": 107,
     "metadata": {},
     "output_type": "execute_result"
    }
   ],
   "source": [
    "# Might something like entropy be useful?\n",
    "from scipy.stats import entropy\n",
    "entropy([0.25,0.25], base=2), entropy([0.8,0.2], base=2), entropy([1,0,0,0], base=2)"
   ]
  },
  {
   "cell_type": "markdown",
   "id": "fbf9757e",
   "metadata": {},
   "source": [
    "<div class='exercise'> <b>An Image Classification Example</div>\n",
    "\n",
    "The 2nd half of your HW asks you to classifying images. Let's try soemthing similar now using the famouse MNIST dataset of handwritten digits.\\\n",
    "\n",
    "We can load the dataset directly from Tensorflow/Keras! You can read more about TensorFlow's datasets [here](https://www.tensorflow.org/api_docs/python/tf/keras/datasets)."
   ]
  },
  {
   "cell_type": "code",
   "execution_count": 108,
   "id": "6cfe6e9e",
   "metadata": {},
   "outputs": [
    {
     "name": "stdout",
     "output_type": "stream",
     "text": [
      "(60000, 28, 28) (60000,) (10000, 28, 28) (10000,)\n"
     ]
    }
   ],
   "source": [
    "# MNIST can't load on Ed\n",
    "from tensorflow.keras.datasets import mnist\n",
    "(x_train, y_train), (x_test, y_test) = mnist.load_data()\n",
    "print(x_train.shape, y_train.shape, x_test.shape, y_test.shape)"
   ]
  },
  {
   "cell_type": "code",
   "execution_count": 109,
   "id": "c0014eeb",
   "metadata": {},
   "outputs": [
    {
     "data": {
      "text/plain": [
       "{0, 1, 2, 3, 4, 5, 6, 7, 8, 9}"
      ]
     },
     "execution_count": 109,
     "metadata": {},
     "output_type": "execute_result"
    }
   ],
   "source": [
    "# Unique response variable values\n",
    "set(y_test)"
   ]
  },
  {
   "cell_type": "markdown",
   "id": "1f978744",
   "metadata": {},
   "source": [
    "Each observation is an 28x28 pixel image.\\\n",
    "There are 60,000 training examples and 10,000 test images.\\\n",
    "The $y$ values corresponde to which of the digit the image represents, 0-9."
   ]
  },
  {
   "cell_type": "markdown",
   "id": "2da3d360",
   "metadata": {},
   "source": [
    "This is how each image is represented numerically."
   ]
  },
  {
   "cell_type": "code",
   "execution_count": 110,
   "id": "c0e36bce",
   "metadata": {},
   "outputs": [
    {
     "data": {
      "text/plain": [
       "array([[  0,   0,   0,   0,   0,   0,   0,   0,   0,   0,   0,   0,   0,   0,   0,   0,   0,   0,   0,   0,   0,   0,   0,   0,   0,   0,   0,   0],\n",
       "       [  0,   0,   0,   0,   0,   0,   0,   0,   0,   0,   0,   0,   0,   0,   0,   0,   0,   0,   0,   0,   0,   0,   0,   0,   0,   0,   0,   0],\n",
       "       [  0,   0,   0,   0,   0,   0,   0,   0,   0,   0,   0,   0,   0,   0,   0,   0,   0,   0,   0,   0,   0,   0,   0,   0,   0,   0,   0,   0],\n",
       "       [  0,   0,   0,   0,   0,   0,   0,   0,   0,   0,   0,   0,   0,   0,   0,   0,   0,   0,   0,   0,   0,   0,   0,   0,   0,   0,   0,   0],\n",
       "       [  0,   0,   0,   0,   0,   0,   0,   0,   0,   0,   0,  42, 118, 219, 166, 118, 118,   6,   0,   0,   0,   0,   0,   0,   0,   0,   0,   0],\n",
       "       [  0,   0,   0,   0,   0,   0,   0,   0,   0,   0, 103, 242, 254, 254, 254, 254, 254,  66,   0,   0,   0,   0,   0,   0,   0,   0,   0,   0],\n",
       "       [  0,   0,   0,   0,   0,   0,   0,   0,   0,   0,  18, 232, 254, 254, 254, 254, 254, 238,  70,   0,   0,   0,   0,   0,   0,   0,   0,   0],\n",
       "       [  0,   0,   0,   0,   0,   0,   0,   0,   0,   0,   0, 104, 244, 254, 224, 254, 254, 254, 141,   0,   0,   0,   0,   0,   0,   0,   0,   0],\n",
       "       [  0,   0,   0,   0,   0,   0,   0,   0,   0,   0,   0,   0, 207, 254, 210, 254, 254, 254,  34,   0,   0,   0,   0,   0,   0,   0,   0,   0],\n",
       "       [  0,   0,   0,   0,   0,   0,   0,   0,   0,   0,   0,   0,  84, 206, 254, 254, 254, 254,  41,   0,   0,   0,   0,   0,   0,   0,   0,   0],\n",
       "       [  0,   0,   0,   0,   0,   0,   0,   0,   0,   0,   0,   0,   0,  24, 209, 254, 254, 254, 171,   0,   0,   0,   0,   0,   0,   0,   0,   0],\n",
       "       [  0,   0,   0,   0,   0,   0,   0,   0,   0,   0,   0,   0,  91, 137, 253, 254, 254, 254, 112,   0,   0,   0,   0,   0,   0,   0,   0,   0],\n",
       "       [  0,   0,   0,   0,   0,   0,   0,   0,   0,   0,  40, 214, 250, 254, 254, 254, 254, 254,  34,   0,   0,   0,   0,   0,   0,   0,   0,   0],\n",
       "       [  0,   0,   0,   0,   0,   0,   0,   0,   0,   0,  81, 247, 254, 254, 254, 254, 254, 254, 146,   0,   0,   0,   0,   0,   0,   0,   0,   0],\n",
       "       [  0,   0,   0,   0,   0,   0,   0,   0,   0,   0,   0, 110, 246, 254, 254, 254, 254, 254, 171,   0,   0,   0,   0,   0,   0,   0,   0,   0],\n",
       "       [  0,   0,   0,   0,   0,   0,   0,   0,   0,   0,   0,   0,  73,  89,  89,  93, 240, 254, 171,   0,   0,   0,   0,   0,   0,   0,   0,   0],\n",
       "       [  0,   0,   0,   0,   0,   0,   0,   0,   0,   0,   0,   0,   0,   0,   0,   1, 128, 254, 219,  31,   0,   0,   0,   0,   0,   0,   0,   0],\n",
       "       [  0,   0,   0,   0,   0,   0,   0,   0,   0,   0,   0,   0,   0,   0,   0,   7, 254, 254, 214,  28,   0,   0,   0,   0,   0,   0,   0,   0],\n",
       "       [  0,   0,   0,   0,   0,   0,   0,   0,   0,   0,   0,   0,   0,   0,   0, 138, 254, 254, 116,   0,   0,   0,   0,   0,   0,   0,   0,   0],\n",
       "       [  0,   0,   0,   0,   0,   0,  19, 177,  90,   0,   0,   0,   0,   0,  25, 240, 254, 254,  34,   0,   0,   0,   0,   0,   0,   0,   0,   0],\n",
       "       [  0,   0,   0,   0,   0,   0, 164, 254, 215,  63,  36,   0,  51,  89, 206, 254, 254, 139,   8,   0,   0,   0,   0,   0,   0,   0,   0,   0],\n",
       "       [  0,   0,   0,   0,   0,   0,  57, 197, 254, 254, 222, 180, 241, 254, 254, 253, 213,  11,   0,   0,   0,   0,   0,   0,   0,   0,   0,   0],\n",
       "       [  0,   0,   0,   0,   0,   0,   0, 140, 105, 254, 254, 254, 254, 254, 254, 236,   0,   0,   0,   0,   0,   0,   0,   0,   0,   0,   0,   0],\n",
       "       [  0,   0,   0,   0,   0,   0,   0,   0,   7, 117, 117, 165, 254, 254, 239,  50,   0,   0,   0,   0,   0,   0,   0,   0,   0,   0,   0,   0],\n",
       "       [  0,   0,   0,   0,   0,   0,   0,   0,   0,   0,   0,   0,   0,   0,   0,   0,   0,   0,   0,   0,   0,   0,   0,   0,   0,   0,   0,   0],\n",
       "       [  0,   0,   0,   0,   0,   0,   0,   0,   0,   0,   0,   0,   0,   0,   0,   0,   0,   0,   0,   0,   0,   0,   0,   0,   0,   0,   0,   0],\n",
       "       [  0,   0,   0,   0,   0,   0,   0,   0,   0,   0,   0,   0,   0,   0,   0,   0,   0,   0,   0,   0,   0,   0,   0,   0,   0,   0,   0,   0],\n",
       "       [  0,   0,   0,   0,   0,   0,   0,   0,   0,   0,   0,   0,   0,   0,   0,   0,   0,   0,   0,   0,   0,   0,   0,   0,   0,   0,   0,   0]], dtype=uint8)"
      ]
     },
     "execution_count": 110,
     "metadata": {},
     "output_type": "execute_result"
    }
   ],
   "source": [
    "np.set_printoptions(edgeitems=30, linewidth=100000, formatter=dict(float=lambda x: \"%.3g\" % x))\n",
    "x_train[10]"
   ]
  },
  {
   "cell_type": "markdown",
   "id": "a3c78709",
   "metadata": {},
   "source": [
    "The values represent pixel intensity and range from 0-255.\\\n",
    "We can use `plt.imshow` or `ax.imshow` to display it as an image."
   ]
  },
  {
   "cell_type": "code",
   "execution_count": 111,
   "id": "d7038b12",
   "metadata": {},
   "outputs": [
    {
     "name": "stdout",
     "output_type": "stream",
     "text": [
      "This picture belongs to the class for number 3\n"
     ]
    },
    {
     "data": {
      "image/png": "[encoded data removed]",
      "text/plain": [
       "<Figure size 432x288 with 1 Axes>"
      ]
     },
     "metadata": {
      "needs_background": "light"
     },
     "output_type": "display_data"
    }
   ],
   "source": [
    "# Display and example observation as an image\n",
    "print('This picture belongs to the class for number', y_train[10])\n",
    "ax = plt.gca()\n",
    "ax.grid('off')\n",
    "ax.imshow(x_train[10], cmap='gray');"
   ]
  },
  {
   "cell_type": "markdown",
   "id": "2ef842dc",
   "metadata": {},
   "source": [
    "<div class='exercise'> <b>(Just a Little) Preprocessing</div>\n"
   ]
  },
  {
   "cell_type": "markdown",
   "id": "91eb147b",
   "metadata": {},
   "source": [
    "**Flattening**\n",
    "\n",
    "We don't know how to feed a 2D input into our neural networks (yet!). So we will simply flatted each image to a length 28x28 = 784 array."
   ]
  },
  {
   "cell_type": "code",
   "execution_count": 112,
   "id": "10c90c11",
   "metadata": {},
   "outputs": [
    {
     "name": "stdout",
     "output_type": "stream",
     "text": [
      "(60000, 784) (60000,) (10000, 784) (10000,)\n"
     ]
    }
   ],
   "source": [
    "# Flatten image data\n",
    "x_train = x_train.reshape(x_train.shape[0], 784)\n",
    "x_test = x_test.reshape(x_test.shape[0], 784)\n",
    "\n",
    "# check if the shapes are ok\n",
    "print(x_train.shape, y_train.shape, x_test.shape, y_test.shape)"
   ]
  },
  {
   "cell_type": "markdown",
   "id": "7b0cbebc",
   "metadata": {},
   "source": [
    "**Normalizing**\n",
    "\n",
    "Let's confirm what we said about pixel values ranging from 0-255 and then normalize them to the range [0,1]."
   ]
  },
  {
   "cell_type": "code",
   "execution_count": 113,
   "id": "fd436021",
   "metadata": {},
   "outputs": [
    {
     "name": "stdout",
     "output_type": "stream",
     "text": [
      "0 255 0 255\n"
     ]
    }
   ],
   "source": [
    "# checking the min and max of x_train and x_test\n",
    "print(x_train.min(), x_train.max(), x_test.min(), x_test.max())"
   ]
  },
  {
   "cell_type": "code",
   "execution_count": 114,
   "id": "42293918",
   "metadata": {},
   "outputs": [
    {
     "name": "stdout",
     "output_type": "stream",
     "text": [
      "0.0 1.0 0.0 1.0\n"
     ]
    }
   ],
   "source": [
    "# Normalize\n",
    "x_train = x_train/255\n",
    "x_test = x_test/255\n",
    "\n",
    "print(x_train.min(), x_train.max(), x_test.min(), x_test.max())"
   ]
  },
  {
   "cell_type": "markdown",
   "id": "3703c0fe",
   "metadata": {},
   "source": [
    "<div class='exercise'> <b>Build & Compile</div>\n",
    "\n",
    "Here we use a little trick with the `'sparse_categorical_crossentropy'` loss. Basically, the saves us from having to turn our response variable into a categorical one! We can just leave them as integers. We'll also cheat a bit here and use the `Adam` optimizer. We'll learn more about this and other optimizers in the coming lectures and advanced section.\n",
    "    \n",
    "Notice too how a sequential Keras model can also be defined as a list passed to the `Sequential` constructor rather than by repeatedly using the `add` method. In future labs, we'll look at the *functional* Keras API, which is an alternative approach to sequential which is more flexible, allowing for more complex architectures."
   ]
  },
  {
   "cell_type": "code",
   "execution_count": 115,
   "id": "99d21c2e",
   "metadata": {},
   "outputs": [],
   "source": [
    "from tensorflow.keras.losses import sparse_categorical_crossentropy"
   ]
  },
  {
   "cell_type": "code",
   "execution_count": 116,
   "id": "6166228a",
   "metadata": {},
   "outputs": [],
   "source": [
    "# Build MNIST model\n",
    "model_mnist = tf.keras.models.Sequential([\n",
    "  tf.keras.layers.Input(shape = (784,)),\n",
    "  tf.keras.layers.Dense(128,activation='relu'),\n",
    "  tf.keras.layers.Dense(10, activation='softmax')\n",
    "])\n",
    "\n",
    "model_mnist.compile(\n",
    "    loss='sparse_categorical_crossentropy',\n",
    "    optimizer=tf.keras.optimizers.Adam(0.001),\n",
    "    metrics=['accuracy']\n",
    ")"
   ]
  },
  {
   "cell_type": "markdown",
   "id": "02b4925f",
   "metadata": {},
   "source": [
    "<div class='exercise'> <b>Fit</b></div>\n"
   ]
  },
  {
   "cell_type": "code",
   "execution_count": 117,
   "id": "738abfca",
   "metadata": {},
   "outputs": [
    {
     "name": "stdout",
     "output_type": "stream",
     "text": [
      "Epoch 1/6\n",
      "469/469 [==============================] - 2s 4ms/step - loss: 0.3535 - accuracy: 0.9008 - val_loss: 0.1938 - val_accuracy: 0.9436\n",
      "Epoch 2/6\n",
      "469/469 [==============================] - 2s 3ms/step - loss: 0.1652 - accuracy: 0.9526 - val_loss: 0.1410 - val_accuracy: 0.9587\n",
      "Epoch 3/6\n",
      "469/469 [==============================] - 2s 4ms/step - loss: 0.1191 - accuracy: 0.9660 - val_loss: 0.1128 - val_accuracy: 0.9671\n",
      "Epoch 4/6\n",
      "469/469 [==============================] - 1s 3ms/step - loss: 0.0925 - accuracy: 0.9730 - val_loss: 0.1010 - val_accuracy: 0.9693\n",
      "Epoch 5/6\n",
      "469/469 [==============================] - 1s 3ms/step - loss: 0.0749 - accuracy: 0.9785 - val_loss: 0.0893 - val_accuracy: 0.9733\n",
      "Epoch 6/6\n",
      "469/469 [==============================] - 2s 4ms/step - loss: 0.0628 - accuracy: 0.9816 - val_loss: 0.0858 - val_accuracy: 0.9729\n"
     ]
    }
   ],
   "source": [
    "# Fit the MNIST model\n",
    "trained_mnist = model_mnist.fit(x_train,\n",
    "                                y_train, \n",
    "                                epochs=6,\n",
    "                                batch_size=128,\n",
    "                                validation_data=(x_test, y_test))"
   ]
  },
  {
   "cell_type": "code",
   "execution_count": 118,
   "id": "866f693c",
   "metadata": {},
   "outputs": [],
   "source": [
    "# Helper function for plotting training history\n",
    "def plot_accuracy_loss(model_history):\n",
    "    plt.figure(figsize=[12,4])\n",
    "    plt.subplot(1,2,1)\n",
    "    plt.semilogx(model_history.history['accuracy'], label = 'train_acc', linewidth=4)\n",
    "    plt.semilogx(model_history.history['val_accuracy'], label = 'val_acc', linewidth=4, alpha=.7)\n",
    "    plt.xlabel('Epoch')\n",
    "    plt.ylabel('Accuracy')\n",
    "    plt.legend()\n",
    "\n",
    "    plt.subplot(1,2,2)\n",
    "    plt.loglog(model_history.history['loss'], label = 'train_loss', linewidth=4)\n",
    "    plt.loglog(model_history.history['val_loss'], label = 'val_loss', linewidth=4, alpha=.7)\n",
    "    plt.xlabel('Epoch')\n",
    "    plt.ylabel('Loss')\n",
    "    plt.legend()\n",
    "    plt.tight_layout()"
   ]
  },
  {
   "cell_type": "code",
   "execution_count": 119,
   "id": "83c077d9",
   "metadata": {},
   "outputs": [
    {
     "data": {
      "image/png": "[encoded data removed]",
      "text/plain": [
       "<Figure size 864x288 with 2 Axes>"
      ]
     },
     "metadata": {
      "needs_background": "light"
     },
     "output_type": "display_data"
    }
   ],
   "source": [
    "# Plot MNIST training history\n",
    "plot_accuracy_loss(trained_mnist)"
   ]
  },
  {
   "cell_type": "markdown",
   "id": "4c5e3d7a",
   "metadata": {},
   "source": [
    "Not bad! But do see some overfitting as the validation accuracy starts to diverge from the training accuracy in later epochs. The same general trend can also be seen in the plot of the losses. In the next lecture we'll look at methods for dealing with overfitting in neural networks."
   ]
  },
  {
   "cell_type": "markdown",
   "id": "4d8396fd",
   "metadata": {},
   "source": [
    "<div class='exercise'> <b>Visually Inspecting Model Performance</b></div>\n"
   ]
  },
  {
   "cell_type": "markdown",
   "id": "c6b9ca0c",
   "metadata": {},
   "source": [
    "A great benefit of working with image date is that you can often (but not always) simply look at an observation to see if your model's prediction make sense or not. Let's try that now!"
   ]
  },
  {
   "cell_type": "code",
   "execution_count": 120,
   "id": "841a7c05",
   "metadata": {},
   "outputs": [],
   "source": [
    "# Make a single prediction and validate it\n",
    "def example_NN_prediction(dataset = x_test, \n",
    "                          model_ = model_mnist):\n",
    "    \"\"\"\n",
    "    This tests our MNist FFNN by examining a single prediction on the test set and \n",
    "    checking if it matches the real label.\n",
    "    \n",
    "    Arguments:\n",
    "        n: if you select n then you will choose the nth test set\n",
    "    \"\"\"\n",
    "    mnist_preds = model_mnist.predict(x_test)\n",
    "    all_predictions = np.argmax(mnist_preds, axis = 1)\n",
    "    \n",
    "    n = np.random.choice(784)\n",
    "    digit = x_test[n,:]\n",
    "    actual_label = y_test[n]\n",
    "    \n",
    "    plt.imshow(digit.reshape(-1, 28))\n",
    "    prediction_array = model_.predict(digit.reshape(1,-1))\n",
    "    prediction = np.argmax(prediction_array)\n",
    "    if prediction == y_test[n]:\n",
    "        print(\"The Mnist model correctly predicted:\", prediction)\n",
    "    else:\n",
    "        print(\"The true label was\", actual_label)\n",
    "        print(\"The Mnist model incorrectly predicted:\", prediction)\n",
    "\n",
    "####################################################        \n",
    "# Make a many predictions and validate them\n",
    "###################################################\n",
    "def example_NN_predictions(model_,\n",
    "                          dataset_ = x_test,\n",
    "                          response_ = y_test,\n",
    "                          get_incorrect = False):\n",
    "    \"\"\"\n",
    "    This tests our MNist FFNN by examining 3 images and checking if our nueral network\n",
    "    can correctly classify them.\n",
    "    \n",
    "    Arguments:\n",
    "        model_ : the mnist model you want to check predictions for.\n",
    "        get_incorrect (boolean): if True, the model will find 3 examples \n",
    "                        where the model made a mistake. Otherwise it just select randomly.\n",
    "    \"\"\"\n",
    "    dataset  = dataset_.copy()\n",
    "    response = response_.copy()\n",
    "    \n",
    "    # If get_incorrect is True, then get an example of incorrect predictions.\n",
    "    # Otherwise get random predictions.\n",
    "    if not get_incorrect:\n",
    "        n = np.random.choice(dataset.shape[0], size = 3)\n",
    "        digits = dataset[n,:]\n",
    "        actual_label = response[n]\n",
    "    else:\n",
    "        # Determine where the model is making mistakes:\n",
    "        mnist_preds = model_mnist.predict(dataset)\n",
    "        all_predictions = np.argmax(mnist_preds, axis = 1)\n",
    "        incorrect_index = all_predictions != response\n",
    "        incorrect = x_test[incorrect_index, :]\n",
    "        \n",
    "        # Randomly select a mistake to show:\n",
    "        n = np.random.choice(incorrect.shape[0], size = 3)\n",
    "        digits  = incorrect[n,:]\n",
    "        \n",
    "        # determine the correct label\n",
    "        labels = response[incorrect_index]\n",
    "        actual_label = labels[n]\n",
    "      \n",
    "    #get the predictions and make the plot:\n",
    "    fig, ax = plt.subplots(1,3, figsize = (12, 4))\n",
    "    ax = ax.flatten()\n",
    "    \n",
    "    for i in range(3):\n",
    "        #show the digit:\n",
    "        digit = digits[i,:]\n",
    "        ax[i].imshow(digit.reshape(28,-1)) #reshape the image to 28 by 28 for viewing\n",
    "        \n",
    "        # reshape the input correctly and get the prediction:\n",
    "        prediction_array = model_.predict(digit.reshape(1,-1))\n",
    "        prediction = np.argmax(prediction_array)\n",
    "        \n",
    "        #Properly label the prediction (correct vs incorrect):\n",
    "        if prediction == actual_label[i]:\n",
    "            ax[i].set_title(\"Correct Prediction: \" + str(prediction))\n",
    "        else:\n",
    "            ax[i].set_title('Incorrect Prediction: {} (True label: {})'.format(\n",
    "                prediction, actual_label[i]))\n",
    "    plt.tight_layout()\n"
   ]
  },
  {
   "cell_type": "code",
   "execution_count": 121,
   "id": "06e97d17",
   "metadata": {},
   "outputs": [
    {
     "name": "stdout",
     "output_type": "stream",
     "text": [
      "The Mnist model correctly predicted: 1\n"
     ]
    },
    {
     "data": {
      "image/png": "[encoded data removed]",
      "text/plain": [
       "<Figure size 432x288 with 1 Axes>"
      ]
     },
     "metadata": {
      "needs_background": "light"
     },
     "output_type": "display_data"
    }
   ],
   "source": [
    "# Here's a random prediction example\n",
    "example_NN_prediction()"
   ]
  },
  {
   "cell_type": "code",
   "execution_count": 122,
   "id": "3fab1b09",
   "metadata": {},
   "outputs": [
    {
     "data": {
      "image/png": "[encoded data removed]",
      "text/plain": [
       "<Figure size 864x288 with 3 Axes>"
      ]
     },
     "metadata": {
      "needs_background": "light"
     },
     "output_type": "display_data"
    }
   ],
   "source": [
    "# Correct predictions\n",
    "example_NN_predictions(model_ = model_mnist, get_incorrect = False)"
   ]
  },
  {
   "cell_type": "markdown",
   "id": "9c2973b2",
   "metadata": {},
   "source": [
    "Let's see some examples where the network makes the wrong prediction."
   ]
  },
  {
   "cell_type": "code",
   "execution_count": 123,
   "id": "da2a7923",
   "metadata": {},
   "outputs": [
    {
     "data": {
      "image/png": "[encoded data removed]",
      "text/plain": [
       "<Figure size 864x288 with 3 Axes>"
      ]
     },
     "metadata": {
      "needs_background": "light"
     },
     "output_type": "display_data"
    }
   ],
   "source": [
    "# Incorrect Predictions\n",
    "example_NN_predictions(model_ = model_mnist, get_incorrect = True)"
   ]
  },
  {
   "cell_type": "markdown",
   "id": "c2245655",
   "metadata": {},
   "source": [
    "Oh my. That is some bad handwriting."
   ]
  },
  {
   "cell_type": "code",
   "execution_count": 0,
   "id": "e06c9ac9",
   "metadata": {},
   "outputs": [],
   "source": []
  }
 ],
 "metadata": {
  "kernelspec": {
   "display_name": "cs109b",
   "language": "python",
   "name": "cs109b"
  },
  "language_info": {
   "codemirror_mode": {
    "name": "ipython",
    "version": 3
   },
   "file_extension": ".py",
   "mimetype": "text/x-python",
   "name": "python",
   "nbconvert_exporter": "python",
   "pygments_lexer": "ipython3",
   "version": "3.8.12"
  }
 },
 "nbformat": 4,
 "nbformat_minor": 5
}
